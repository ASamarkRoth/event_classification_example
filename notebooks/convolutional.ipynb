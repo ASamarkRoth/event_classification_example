{
 "cells": [
  {
   "cell_type": "markdown",
   "metadata": {},
   "source": [
    "# Classifying simulated events using a Convolutional Neural Network"
   ]
  },
  {
   "cell_type": "code",
   "execution_count": 1,
   "metadata": {},
   "outputs": [],
   "source": [
    "# Imports\n",
    "import numpy as np\n",
    "import matplotlib.pyplot as plt\n",
    "from sklearn.model_selection import train_test_split\n",
    "from helper_functions import import_data, normalize_image_data\n",
    "%load_ext autoreload\n",
    "%autoreload 2\n",
    "%matplotlib inline\n"
   ]
  },
  {
   "cell_type": "code",
   "execution_count": 2,
   "metadata": {},
   "outputs": [],
   "source": [
    "# Load images and labels.\n",
    "DATA_PATH = \"../data/\"\n",
    "\n",
    "images = np.load(DATA_PATH+\"images_training.npy\")\n",
    "labels = np.load(DATA_PATH+\"labels_training.npy\")\n",
    "\n",
    "# Split the training indices into training and validation. \n",
    "# Validate with 25% of the data (default). Can be adjusted.\n",
    "x_idx = np.arange(images.shape[0])\n",
    "train_idx, val_idx, not_used1, not_used2 = train_test_split(x_idx, x_idx, test_size = 0.25)"
   ]
  },
  {
   "cell_type": "markdown",
   "metadata": {},
   "source": [
    "## Reshaping data for CNNs\n",
    "The convolutional layers we'll be using expect the inputs to have 4 dimensions:\\\n",
    "(samples, M, N, channels).\\\n",
    "M and N are the image dimensions, 16x16, but while RGB images have 3 channels, ours currently has 0, but should have 1.\\\n",
    "We solve this by just adding an empty axis."
   ]
  },
  {
   "cell_type": "code",
   "execution_count": 8,
   "metadata": {},
   "outputs": [
    {
     "name": "stdout",
     "output_type": "stream",
     "text": [
      "(9000, 16, 16, 1)\n"
     ]
    }
   ],
   "source": [
    "images = images[:, :, :, None]\n",
    "print(images.shape)"
   ]
  },
  {
   "cell_type": "markdown",
   "metadata": {},
   "source": [
    "# Model\n",
    "Now, you can build your own network from scratch, and that's a useful exercise. We're going to skip that\n",
    "here, and use one of the popular, exisiting frameworks that are widely used in current research.\n",
    "The most used base frameworks are [TensorFlow](https://www.tensorflow.org/), [PyTorch](https://pytorch.org/), and [Keras](https://keras.io/). Keras is a high-level API that abstracts a large amount of the process of building,\n",
    "training, and testing a model. You will need either TensorFlow or PyTorch, and the Keras API will automatically\n",
    "detect which base framework you have."
   ]
  },
  {
   "cell_type": "markdown",
   "metadata": {},
   "source": [
    "## Build and compile"
   ]
  },
  {
   "cell_type": "code",
   "execution_count": 18,
   "metadata": {},
   "outputs": [],
   "source": [
    "# Import the necessary TF models and layers\n",
    "from keras.models import Sequential\n",
    "from keras.layers import Dense, Flatten, Conv2D, MaxPooling2D, Dropout"
   ]
  },
  {
   "cell_type": "code",
   "execution_count": 19,
   "metadata": {},
   "outputs": [],
   "source": [
    "# Instantiate the Sequential model, and add layers to it.\n",
    "model = Sequential()\n",
    "\n",
    "# The model we build here is the one that has currently performed best when classifying the detector images.\n",
    "model.add(Conv2D(32, kernel_size=(3,3), activation = 'relu', input_shape= (16,16,1)))\n",
    "model.add(Conv2D(64, (3,3), activation = 'relu'))\n",
    "model.add(MaxPooling2D(pool_size=(2,2)))\n",
    "model.add(Dropout(0.25))\n",
    "model.add(Dense(128, activation = 'relu'))\n",
    "model.add(Dropout(0.5))\n",
    "model.add(Flatten())\n",
    "model.add(Dense(1, activation = 'sigmoid'))"
   ]
  },
  {
   "cell_type": "code",
   "execution_count": 22,
   "metadata": {},
   "outputs": [
    {
     "name": "stdout",
     "output_type": "stream",
     "text": [
      "Model: \"sequential_5\"\n",
      "_________________________________________________________________\n",
      "Layer (type)                 Output Shape              Param #   \n",
      "=================================================================\n",
      "conv2d_6 (Conv2D)            (None, 14, 14, 32)        320       \n",
      "_________________________________________________________________\n",
      "conv2d_7 (Conv2D)            (None, 12, 12, 64)        18496     \n",
      "_________________________________________________________________\n",
      "max_pooling2d_2 (MaxPooling2 (None, 6, 6, 64)          0         \n",
      "_________________________________________________________________\n",
      "dropout_1 (Dropout)          (None, 6, 6, 64)          0         \n",
      "_________________________________________________________________\n",
      "dense_7 (Dense)              (None, 6, 6, 128)         8320      \n",
      "_________________________________________________________________\n",
      "dropout_2 (Dropout)          (None, 6, 6, 128)         0         \n",
      "_________________________________________________________________\n",
      "flatten_4 (Flatten)          (None, 4608)              0         \n",
      "_________________________________________________________________\n",
      "dense_8 (Dense)              (None, 1)                 4609      \n",
      "=================================================================\n",
      "Total params: 31,745\n",
      "Trainable params: 31,745\n",
      "Non-trainable params: 0\n",
      "_________________________________________________________________\n",
      "None\n"
     ]
    }
   ],
   "source": [
    "# Once the model is built, we need to compile it. This is where we specify the loss function,\n",
    "# optimizer, and any metrics we need, even custom ones.\n",
    "\n",
    "model.compile(\n",
    "    loss='binary_crossentropy',\n",
    "    optimizer='adam',\n",
    "    metrics=['accuracy']\n",
    ")\n",
    "print(model.summary())"
   ]
  },
  {
   "cell_type": "markdown",
   "metadata": {},
   "source": [
    "## Training\n",
    "This is the point where we normalize our data, just as we pass it to the training function of the model.\n",
    "The training run will display the progress as it goes through each batch.\n",
    "$$ \\text{num_batches} = \\frac{\\text{num_samples}}{\\text{batch_size}}$$"
   ]
  },
  {
   "cell_type": "code",
   "execution_count": 23,
   "metadata": {},
   "outputs": [],
   "source": [
    "# Set parameters for the training.\n",
    "batch_size = 32\n",
    "epochs = 20"
   ]
  },
  {
   "cell_type": "code",
   "execution_count": 25,
   "metadata": {},
   "outputs": [
    {
     "name": "stdout",
     "output_type": "stream",
     "text": [
      "Train on 6750 samples, validate on 2250 samples\n",
      "Epoch 1/20\n",
      "6750/6750 [==============================] - 4s 531us/step - loss: 0.2238 - accuracy: 0.9176 - val_loss: 0.5157 - val_accuracy: 0.8151\n",
      "Epoch 2/20\n",
      "6750/6750 [==============================] - 4s 537us/step - loss: 0.2318 - accuracy: 0.9124 - val_loss: 0.6069 - val_accuracy: 0.7800\n",
      "Epoch 3/20\n",
      "6750/6750 [==============================] - 4s 528us/step - loss: 0.2272 - accuracy: 0.9157 - val_loss: 0.3950 - val_accuracy: 0.8644\n",
      "Epoch 4/20\n",
      "6750/6750 [==============================] - 4s 538us/step - loss: 0.2180 - accuracy: 0.9196 - val_loss: 0.6387 - val_accuracy: 0.7818\n",
      "Epoch 5/20\n",
      "6750/6750 [==============================] - 4s 531us/step - loss: 0.2218 - accuracy: 0.9197 - val_loss: 0.5199 - val_accuracy: 0.8240\n",
      "Epoch 6/20\n",
      "6750/6750 [==============================] - 4s 538us/step - loss: 0.2071 - accuracy: 0.9255 - val_loss: 0.5775 - val_accuracy: 0.8067\n",
      "Epoch 7/20\n",
      "6750/6750 [==============================] - 4s 536us/step - loss: 0.2138 - accuracy: 0.9233 - val_loss: 0.4275 - val_accuracy: 0.8578\n",
      "Epoch 8/20\n",
      "6750/6750 [==============================] - 4s 538us/step - loss: 0.2000 - accuracy: 0.9289 - val_loss: 0.5618 - val_accuracy: 0.8164\n",
      "Epoch 9/20\n",
      "6750/6750 [==============================] - 4s 540us/step - loss: 0.2160 - accuracy: 0.9209 - val_loss: 0.5182 - val_accuracy: 0.8253\n",
      "Epoch 10/20\n",
      "6750/6750 [==============================] - 4s 532us/step - loss: 0.1983 - accuracy: 0.9286 - val_loss: 0.6606 - val_accuracy: 0.7818\n",
      "Epoch 11/20\n",
      "6750/6750 [==============================] - 4s 567us/step - loss: 0.1932 - accuracy: 0.9319 - val_loss: 0.2550 - val_accuracy: 0.9147\n",
      "Epoch 12/20\n",
      "6750/6750 [==============================] - 4s 537us/step - loss: 0.2008 - accuracy: 0.9302 - val_loss: 0.5304 - val_accuracy: 0.8267\n",
      "Epoch 13/20\n",
      "6750/6750 [==============================] - 4s 552us/step - loss: 0.1935 - accuracy: 0.9338 - val_loss: 0.6535 - val_accuracy: 0.7880\n",
      "Epoch 14/20\n",
      "6750/6750 [==============================] - 4s 538us/step - loss: 0.1980 - accuracy: 0.9292 - val_loss: 0.9176 - val_accuracy: 0.6942\n",
      "Epoch 15/20\n",
      "6750/6750 [==============================] - 4s 546us/step - loss: 0.1988 - accuracy: 0.9293 - val_loss: 0.6634 - val_accuracy: 0.7844\n",
      "Epoch 16/20\n",
      "6750/6750 [==============================] - 4s 543us/step - loss: 0.1987 - accuracy: 0.9316 - val_loss: 0.5481 - val_accuracy: 0.8200\n",
      "Epoch 17/20\n",
      "6750/6750 [==============================] - 4s 538us/step - loss: 0.1809 - accuracy: 0.9379 - val_loss: 0.4184 - val_accuracy: 0.8733\n",
      "Epoch 18/20\n",
      "6750/6750 [==============================] - 4s 532us/step - loss: 0.1854 - accuracy: 0.9357 - val_loss: 0.4585 - val_accuracy: 0.8547\n",
      "Epoch 19/20\n",
      "6750/6750 [==============================] - 4s 567us/step - loss: 0.1848 - accuracy: 0.9354 - val_loss: 0.4594 - val_accuracy: 0.8578\n",
      "Epoch 20/20\n",
      "6750/6750 [==============================] - 4s 533us/step - loss: 0.1825 - accuracy: 0.9370 - val_loss: 0.4120 - val_accuracy: 0.8756\n"
     ]
    },
    {
     "data": {
      "text/plain": [
       "<keras.callbacks.callbacks.History at 0x7f500c693dd0>"
      ]
     },
     "execution_count": 25,
     "metadata": {},
     "output_type": "execute_result"
    }
   ],
   "source": [
    "# Setting validation data requires a tuple (val_input, val_targets). You can also just pass the\n",
    "# entire training set without splitting, and specify validation_split instead of validation_data.\n",
    "# The the model handles the splitting.\n",
    "\n",
    "val_data = (normalize_image_data(images[val_idx]), labels[val_idx])\n",
    "model.fit(\n",
    "    x=normalize_image_data(images[train_idx]),\n",
    "    y=labels[train_idx],\n",
    "    validation_data=val_data,\n",
    "    batch_size=batch_size,\n",
    "    epochs=epochs,\n",
    ")"
   ]
  },
  {
   "cell_type": "markdown",
   "metadata": {},
   "source": [
    "# Evaluate the model\n",
    "Accuracy is just one of the metrics we use to evaluate the performance of a classifier. We can also take into account the\n",
    "confusion matrix, F1-score, and ROC-curve."
   ]
  },
  {
   "cell_type": "code",
   "execution_count": 51,
   "metadata": {},
   "outputs": [],
   "source": [
    "# Predict on the validation set\n",
    "pred = model.predict([normalize_image_data(images[val_idx])])"
   ]
  },
  {
   "cell_type": "markdown",
   "metadata": {},
   "source": [
    "## Confusion Matrix\n",
    "The confusion matrix can be a useful metric to gain a little bit\n",
    "more insight into specifically what the model gets wrong.\n",
    "* Top left: Single events classified as single events\n",
    "* Top right: Single events classified as double events\n",
    "* Bottom left: Double events classified as single events\n",
    "* Bottom right: Double events classified as double events"
   ]
  },
  {
   "cell_type": "code",
   "execution_count": 59,
   "metadata": {},
   "outputs": [
    {
     "data": {
      "text/plain": [
       "array([[1105,    1],\n",
       "       [ 279,  865]])"
      ]
     },
     "execution_count": 59,
     "metadata": {},
     "output_type": "execute_result"
    }
   ],
   "source": [
    "# Confusion Matrix\n",
    "from sklearn.metrics import confusion_matrix\n",
    "# Convert sigmoid values from prediction to integers so it works with the function.\n",
    "\n",
    "result = pred > 0.5\n",
    "confusion_matrix(labels[val_idx], result)"
   ]
  },
  {
   "cell_type": "markdown",
   "metadata": {},
   "source": [
    "## F1 Score"
   ]
  },
  {
   "cell_type": "code",
   "execution_count": 50,
   "metadata": {},
   "outputs": [
    {
     "name": "stdout",
     "output_type": "stream",
     "text": [
      "F1-score:  0.8606965174129354\n"
     ]
    }
   ],
   "source": [
    "from sklearn.metrics import f1_score\n",
    "score = f1_score(labels[val_idx], result)\n",
    "print(\"F1-score: \", score)"
   ]
  },
  {
   "cell_type": "markdown",
   "metadata": {},
   "source": [
    "### ROC curves\n",
    "#### All events"
   ]
  },
  {
   "cell_type": "code",
   "execution_count": 58,
   "metadata": {},
   "outputs": [
    {
     "data": {
      "image/png": "[encoded data removed]",
      "text/plain": [
       "<Figure size 432x288 with 1 Axes>"
      ]
     },
     "metadata": {
      "needs_background": "light"
     },
     "output_type": "display_data"
    }
   ],
   "source": [
    "from sklearn.metrics import roc_curve\n",
    "\n",
    "fpr, tpr, thresholds = roc_curve(labels[val_idx], result)\n",
    "\n",
    "# Plot the curve\n",
    "plt.figure()\n",
    "plt.plot(fpr, tpr, color='darkorange',lw=2)\n",
    "plt.plot([0, 1], [0, 1], color='navy', lw=2, linestyle='--')\n",
    "plt.xlim([0.0, 1.0])\n",
    "plt.ylim([0.0, 1.05])\n",
    "plt.xlabel('False Positive Rate')\n",
    "plt.ylabel('True Positive Rate')\n",
    "plt.title('Receiver operating characteristic')\n",
    "plt.show()"
   ]
  }
 ],
 "metadata": {
  "hide_input": false,
  "kernelspec": {
   "display_name": "Python 3",
   "language": "python",
   "name": "python3"
  },
  "language_info": {
   "codemirror_mode": {
    "name": "ipython",
    "version": 3
   },
   "file_extension": ".py",
   "mimetype": "text/x-python",
   "name": "python",
   "nbconvert_exporter": "python",
   "pygments_lexer": "ipython3",
   "version": "3.7.7"
  },
  "latex_envs": {
   "LaTeX_envs_menu_present": true,
   "autoclose": false,
   "autocomplete": true,
   "bibliofile": "biblio.bib",
   "cite_by": "apalike",
   "current_citInitial": 1,
   "eqLabelWithNumbers": true,
   "eqNumInitial": 1,
   "hotkeys": {
    "equation": "Ctrl-E",
    "itemize": "Ctrl-I"
   },
   "labels_anchors": false,
   "latex_user_defs": false,
   "report_style_numbering": false,
   "user_envs_cfg": false
  },
  "toc": {
   "base_numbering": 1,
   "nav_menu": {},
   "number_sections": true,
   "sideBar": true,
   "skip_h1_title": false,
   "title_cell": "Table of Contents",
   "title_sidebar": "Contents",
   "toc_cell": false,
   "toc_position": {},
   "toc_section_display": true,
   "toc_window_display": false
  }
 },
 "nbformat": 4,
 "nbformat_minor": 4
}
