{
 "cells": [
  {
   "cell_type": "markdown",
   "metadata": {},
   "source": [
    "# Classifying simulated events using a Convolutional Neural Network"
   ]
  },
  {
   "cell_type": "code",
   "execution_count": 9,
   "metadata": {},
   "outputs": [],
   "source": [
    "# Imports\n",
    "import numpy as np\n",
    "import matplotlib.pyplot as plt\n",
    "from keras.models import Sequential\n",
    "from keras.layers import Dense, Flatten, Conv2D, MaxPooling2D, Dropout\n",
    "from sklearn.model_selection import train_test_split\n",
    "from sklearn.metrics import (accuracy_score, confusion_matrix, f1_score, \n",
    "                             matthews_corrcoef, roc_curve, roc_auc_score)\n",
    "from helper_functions import normalize_image_data"
   ]
  },
  {
   "cell_type": "code",
   "execution_count": 10,
   "metadata": {},
   "outputs": [],
   "source": [
    "# Load images and labels.\n",
    "DATA_PATH = \"../data/\"\n",
    "\n",
    "images = np.load(DATA_PATH+\"images_training.npy\")\n",
    "labels = np.load(DATA_PATH+\"labels_training.npy\")\n",
    "\n",
    "# Split the training indices into training and validation. \n",
    "# Validate with 25% of the data (default). Can be adjusted.\n",
    "x_idx = np.arange(images.shape[0])\n",
    "train_idx, val_idx, not_used1, not_used2 = train_test_split(x_idx, x_idx, test_size = 0.25)"
   ]
  },
  {
   "cell_type": "markdown",
   "metadata": {},
   "source": [
    "## Reshaping data for CNNs\n",
    "The convolutional layers we'll be using expect the inputs to have 4 dimensions:\\\n",
    "(samples, M, N, channels).\\\n",
    "M and N are the image dimensions, 16x16, but while RGB images have 3 channels, ours currently has 0, but should have 1.\\\n",
    "We solve this by just adding an empty axis."
   ]
  },
  {
   "cell_type": "code",
   "execution_count": 11,
   "metadata": {},
   "outputs": [
    {
     "name": "stdout",
     "output_type": "stream",
     "text": [
      "(9000, 16, 16, 1)\n"
     ]
    }
   ],
   "source": [
    "images = images.reshape(images.shape[0], 16, 16, 1)\n",
    "print(images.shape)"
   ]
  },
  {
   "cell_type": "markdown",
   "metadata": {},
   "source": [
    "# Model\n",
    "Now, you can build your own network from scratch, and that's a useful exercise. We're going to skip that\n",
    "here, and use one of the popular, exisiting frameworks that are widely used in current research.\n",
    "The most used base frameworks are [TensorFlow](https://www.tensorflow.org/), [PyTorch](https://pytorch.org/), and [Keras](https://keras.io/). Keras is a high-level API that abstracts a large amount of the process of building,\n",
    "training, and testing a model. You will need either TensorFlow or PyTorch, and the Keras API will automatically\n",
    "detect which base framework you have."
   ]
  },
  {
   "cell_type": "markdown",
   "metadata": {},
   "source": [
    "## Build and compile"
   ]
  },
  {
   "cell_type": "code",
   "execution_count": 12,
   "metadata": {},
   "outputs": [],
   "source": [
    "# Instantiate the Sequential model, and add layers to it.\n",
    "model = Sequential()\n",
    "\n",
    "# The model we build here is the one that has currently performed best when classifying the detector images.\n",
    "model.add(Conv2D(32, kernel_size=(3,3), activation = 'relu', input_shape= (16,16,1)))\n",
    "model.add(Conv2D(64, (3,3), activation = 'relu'))\n",
    "model.add(MaxPooling2D(pool_size=(2,2)))\n",
    "model.add(Dropout(0.25))\n",
    "model.add(Dense(128, activation = 'relu'))\n",
    "model.add(Dropout(0.5))\n",
    "model.add(Flatten())\n",
    "model.add(Dense(1, activation = 'sigmoid'))"
   ]
  },
  {
   "cell_type": "code",
   "execution_count": 13,
   "metadata": {},
   "outputs": [
    {
     "name": "stdout",
     "output_type": "stream",
     "text": [
      "Model: \"sequential\"\n",
      "_________________________________________________________________\n",
      "Layer (type)                 Output Shape              Param #   \n",
      "=================================================================\n",
      "conv2d (Conv2D)              (None, 14, 14, 32)        320       \n",
      "_________________________________________________________________\n",
      "conv2d_1 (Conv2D)            (None, 12, 12, 64)        18496     \n",
      "_________________________________________________________________\n",
      "max_pooling2d (MaxPooling2D) (None, 6, 6, 64)          0         \n",
      "_________________________________________________________________\n",
      "dropout (Dropout)            (None, 6, 6, 64)          0         \n",
      "_________________________________________________________________\n",
      "dense (Dense)                (None, 6, 6, 128)         8320      \n",
      "_________________________________________________________________\n",
      "dropout_1 (Dropout)          (None, 6, 6, 128)         0         \n",
      "_________________________________________________________________\n",
      "flatten (Flatten)            (None, 4608)              0         \n",
      "_________________________________________________________________\n",
      "dense_1 (Dense)              (None, 1)                 4609      \n",
      "=================================================================\n",
      "Total params: 31,745\n",
      "Trainable params: 31,745\n",
      "Non-trainable params: 0\n",
      "_________________________________________________________________\n",
      "None\n"
     ]
    }
   ],
   "source": [
    "# Once the model is built, we need to compile it. This is where we specify the loss function,\n",
    "# optimizer, and any metrics we need, even custom ones.\n",
    "\n",
    "model.compile(\n",
    "    loss='binary_crossentropy',\n",
    "    optimizer='adam',\n",
    "    metrics=['accuracy']\n",
    ")\n",
    "print(model.summary())"
   ]
  },
  {
   "cell_type": "markdown",
   "metadata": {},
   "source": [
    "## Training\n",
    "This is the point where we normalize our data, just as we pass it to the training function of the model.\n",
    "The training run will display the progress as it goes through each batch.\n",
    "$$ \\text{num_batches} = \\frac{\\text{num_samples}}{\\text{batch_size}}$$"
   ]
  },
  {
   "cell_type": "code",
   "execution_count": 14,
   "metadata": {},
   "outputs": [],
   "source": [
    "# Set parameters for the training.\n",
    "batch_size = 32\n",
    "epochs = 20"
   ]
  },
  {
   "cell_type": "code",
   "execution_count": 15,
   "metadata": {},
   "outputs": [
    {
     "name": "stdout",
     "output_type": "stream",
     "text": [
      "Epoch 1/20\n",
      "211/211 [==============================] - 2s 9ms/step - loss: 0.5307 - accuracy: 0.7163 - val_loss: 0.4485 - val_accuracy: 0.7849\n",
      "Epoch 2/20\n",
      "211/211 [==============================] - 2s 8ms/step - loss: 0.4342 - accuracy: 0.7945 - val_loss: 0.3880 - val_accuracy: 0.8484\n",
      "Epoch 3/20\n",
      "211/211 [==============================] - 2s 8ms/step - loss: 0.3797 - accuracy: 0.8339 - val_loss: 0.3418 - val_accuracy: 0.8622\n",
      "Epoch 4/20\n",
      "211/211 [==============================] - 2s 8ms/step - loss: 0.3489 - accuracy: 0.8529 - val_loss: 0.2957 - val_accuracy: 0.8929\n",
      "Epoch 5/20\n",
      "211/211 [==============================] - 2s 8ms/step - loss: 0.3318 - accuracy: 0.8619 - val_loss: 0.2970 - val_accuracy: 0.8858\n",
      "Epoch 6/20\n",
      "211/211 [==============================] - 2s 8ms/step - loss: 0.3115 - accuracy: 0.8812 - val_loss: 0.2591 - val_accuracy: 0.9098\n",
      "Epoch 7/20\n",
      "211/211 [==============================] - 2s 8ms/step - loss: 0.3054 - accuracy: 0.8822 - val_loss: 0.2603 - val_accuracy: 0.9031\n",
      "Epoch 8/20\n",
      "211/211 [==============================] - 2s 8ms/step - loss: 0.2883 - accuracy: 0.8902 - val_loss: 0.2445 - val_accuracy: 0.9169\n",
      "Epoch 9/20\n",
      "211/211 [==============================] - 2s 8ms/step - loss: 0.2812 - accuracy: 0.8954 - val_loss: 0.2554 - val_accuracy: 0.9000\n",
      "Epoch 10/20\n",
      "211/211 [==============================] - 2s 8ms/step - loss: 0.2666 - accuracy: 0.9016 - val_loss: 0.2359 - val_accuracy: 0.9191\n",
      "Epoch 11/20\n",
      "211/211 [==============================] - 2s 8ms/step - loss: 0.2894 - accuracy: 0.8881 - val_loss: 0.2414 - val_accuracy: 0.9227\n",
      "Epoch 12/20\n",
      "211/211 [==============================] - 2s 8ms/step - loss: 0.2717 - accuracy: 0.8957 - val_loss: 0.2345 - val_accuracy: 0.9102\n",
      "Epoch 13/20\n",
      "211/211 [==============================] - 2s 8ms/step - loss: 0.2646 - accuracy: 0.9019 - val_loss: 0.2103 - val_accuracy: 0.9311\n",
      "Epoch 14/20\n",
      "211/211 [==============================] - 2s 8ms/step - loss: 0.2592 - accuracy: 0.8990 - val_loss: 0.2176 - val_accuracy: 0.9209\n",
      "Epoch 15/20\n",
      "211/211 [==============================] - 2s 9ms/step - loss: 0.2479 - accuracy: 0.9077 - val_loss: 0.2072 - val_accuracy: 0.9280\n",
      "Epoch 16/20\n",
      "211/211 [==============================] - 2s 9ms/step - loss: 0.2498 - accuracy: 0.9073 - val_loss: 0.2145 - val_accuracy: 0.9196\n",
      "Epoch 17/20\n",
      "211/211 [==============================] - 2s 9ms/step - loss: 0.2466 - accuracy: 0.9080 - val_loss: 0.2321 - val_accuracy: 0.9102\n",
      "Epoch 18/20\n",
      "211/211 [==============================] - 2s 8ms/step - loss: 0.2374 - accuracy: 0.9116 - val_loss: 0.2155 - val_accuracy: 0.9213\n",
      "Epoch 19/20\n",
      "211/211 [==============================] - 2s 8ms/step - loss: 0.2402 - accuracy: 0.9093 - val_loss: 0.2091 - val_accuracy: 0.9236\n",
      "Epoch 20/20\n",
      "211/211 [==============================] - 2s 8ms/step - loss: 0.2317 - accuracy: 0.9160 - val_loss: 0.1882 - val_accuracy: 0.9391\n"
     ]
    }
   ],
   "source": [
    "# Setting validation data requires a tuple (val_input, val_targets). You can also just pass the\n",
    "# entire training set without splitting, and specify validation_split instead of validation_data.\n",
    "# The the model handles the splitting.\n",
    "\n",
    "val_data = (normalize_image_data(images[val_idx]), labels[val_idx])\n",
    "history = model.fit(\n",
    "    x=normalize_image_data(images[train_idx]),\n",
    "    y=labels[train_idx],\n",
    "    validation_data=val_data,\n",
    "    batch_size=batch_size,\n",
    "    epochs=epochs,\n",
    ")"
   ]
  },
  {
   "cell_type": "markdown",
   "metadata": {},
   "source": [
    "# Evaluate the model\n",
    "Accuracy is just one of the metrics we use to evaluate the performance of a classifier. We can also take into account the\n",
    "confusion matrix, F1-score, and ROC-curve with Area Under Curve (AUC)"
   ]
  },
  {
   "cell_type": "markdown",
   "metadata": {},
   "source": [
    "## Plot history of loss and accuracy"
   ]
  },
  {
   "cell_type": "code",
   "execution_count": 16,
   "metadata": {},
   "outputs": [
    {
     "data": {
      "text/plain": [
       "<matplotlib.legend.Legend at 0x7f3254146fa0>"
      ]
     },
     "execution_count": 16,
     "metadata": {},
     "output_type": "execute_result"
    },
    {
     "data": {
      "image/png": "[encoded data removed]",
      "text/plain": [
       "<Figure size 1008x432 with 2 Axes>"
      ]
     },
     "metadata": {
      "needs_background": "light"
     },
     "output_type": "display_data"
    }
   ],
   "source": [
    "# Plot loss and val_loss as one plot, and accuracy and val_accuracy as another, side-by-side.\n",
    "# We'll also save this plot as plot_history() in the helper_functions file, so any time we need to\n",
    "# plot the history object like this we can just call that function and pass the history object as\n",
    "# an argument.\n",
    "fig, ax = plt.subplots(1, 2, figsize=(14, 6))\n",
    "num_epochs = len(history.history['loss'])\n",
    "ax[0].plot(history.history['loss'], label='training')\n",
    "ax[0].plot(history.history['val_loss'], label='validation')\n",
    "ax[0].set_title(\"Model loss\")\n",
    "ax[0].set_xlabel(\"Epoch\")\n",
    "ax[0].set_ylabel(\"Loss\")\n",
    "ax[0].set_xticks(np.arange(num_epochs))\n",
    "ax[0].legend()\n",
    "\n",
    "ax[1].plot(history.history['accuracy'], label='training')\n",
    "ax[1].plot(history.history['val_accuracy'], label='validation')\n",
    "ax[1].set_title(\"Model accburacy\")\n",
    "ax[1].set_xlabel(\"Epoch\")\n",
    "ax[1].set_ylabel(\"Accuracy\")\n",
    "ax[1].set_xticks(np.arange(num_epochs))\n",
    "ax[1].legend()"
   ]
  },
  {
   "cell_type": "code",
   "execution_count": 17,
   "metadata": {},
   "outputs": [],
   "source": [
    "# Predict on the validation set\n",
    "pred = model.predict([normalize_image_data(images[val_idx])])\n",
    "# Convert sigmoid values from prediction to integers so it works with the function.\n",
    "result = pred > 0.5"
   ]
  },
  {
   "cell_type": "markdown",
   "metadata": {},
   "source": [
    "## Collection of metrics\n",
    "Check out the notebook on logistic regression for details around the metrics."
   ]
  },
  {
   "cell_type": "code",
   "execution_count": 18,
   "metadata": {},
   "outputs": [],
   "source": [
    "accuracy = accuracy_score(labels[val_idx], result)\n",
    "confmat = confusion_matrix(labels[val_idx], result)\n",
    "f1 = f1_score(labels[val_idx], result)\n",
    "mcc = matthews_corrcoef(labels[val_idx], result)"
   ]
  },
  {
   "cell_type": "code",
   "execution_count": 19,
   "metadata": {},
   "outputs": [
    {
     "name": "stdout",
     "output_type": "stream",
     "text": [
      "Confusion matrix:\n",
      " [[1088    8]\n",
      " [ 129 1025]]\n",
      "Accuracy: 0.9391111111111111\n",
      "F1-score: 0.9373571101966164\n",
      "MCC: 0.8835823856917883\n"
     ]
    }
   ],
   "source": [
    "# Print the metrics in an orderly fashion\n",
    "print(\"Confusion matrix:\\n\", confmat)\n",
    "print(\"Accuracy:\", accuracy)\n",
    "print(\"F1-score:\", f1)\n",
    "print(\"MCC:\", mcc)"
   ]
  },
  {
   "cell_type": "markdown",
   "metadata": {},
   "source": [
    "## ROC-curve and Area Under Curve\n",
    "### All events"
   ]
  },
  {
   "cell_type": "code",
   "execution_count": 20,
   "metadata": {},
   "outputs": [
    {
     "data": {
      "image/png": "[encoded data removed]",
      "text/plain": [
       "<Figure size 432x288 with 1 Axes>"
      ]
     },
     "metadata": {
      "needs_background": "light"
     },
     "output_type": "display_data"
    }
   ],
   "source": [
    "fpr, tpr, thresholds = roc_curve(labels[val_idx], pred)\n",
    "roc_auc = roc_auc_score(labels[val_idx], pred)\n",
    "# Plot the curve\n",
    "plt.figure()\n",
    "plt.plot(fpr, tpr, color='darkorange', lw=2, label=\"ROC curve (area = {:0.2f})\".format(roc_auc))\n",
    "plt.plot([0, 1], [0, 1], color='navy', lw=2, linestyle='--')\n",
    "plt.xlim([0.0, 1.0])\n",
    "plt.ylim([0.0, 1.05])\n",
    "plt.xlabel('False Positive Rate')\n",
    "plt.ylabel('True Positive Rate')\n",
    "plt.title('Receiver operating characteristic')\n",
    "plt.legend()\n",
    "plt.show()"
   ]
  }
 ],
 "metadata": {
  "hide_input": false,
  "kernelspec": {
   "display_name": "Python 3",
   "language": "python",
   "name": "python3"
  },
  "language_info": {
   "codemirror_mode": {
    "name": "ipython",
    "version": 3
   },
   "file_extension": ".py",
   "mimetype": "text/x-python",
   "name": "python",
   "nbconvert_exporter": "python",
   "pygments_lexer": "ipython3",
   "version": "3.8.2"
  },
  "latex_envs": {
   "LaTeX_envs_menu_present": true,
   "autoclose": false,
   "autocomplete": true,
   "bibliofile": "biblio.bib",
   "cite_by": "apalike",
   "current_citInitial": 1,
   "eqLabelWithNumbers": true,
   "eqNumInitial": 1,
   "hotkeys": {
    "equation": "Ctrl-E",
    "itemize": "Ctrl-I"
   },
   "labels_anchors": false,
   "latex_user_defs": false,
   "report_style_numbering": false,
   "user_envs_cfg": false
  },
  "toc": {
   "base_numbering": 1,
   "nav_menu": {},
   "number_sections": true,
   "sideBar": true,
   "skip_h1_title": false,
   "title_cell": "Table of Contents",
   "title_sidebar": "Contents",
   "toc_cell": false,
   "toc_position": {},
   "toc_section_display": true,
   "toc_window_display": false
  }
 },
 "nbformat": 4,
 "nbformat_minor": 4
}
