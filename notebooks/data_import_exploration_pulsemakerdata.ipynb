{
 "cells": [
  {
   "cell_type": "markdown",
   "metadata": {},
   "source": [
    "# Data import and exploration\n",
    "New pulsemaker files"
   ]
  },
  {
   "cell_type": "markdown",
   "metadata": {},
   "source": [
    "## First, look at the data\n",
    "id, samples, amplitude1, rise1, decay1, position1, offset, amplitude2, rise2, decay2, position2, val1, val2, ...\n",
    "The id is either 1 for a single pulse or 2 for a double pulse. In the single pulse case all the pulse parameters for the second pulse are 0.\n",
    "\n",
    "Open up the file and look at it. In most linux terminals you can also use the command\n",
    "`head` to display a set number of lines from the start of the file. We'll start with the first line.\n",
    "Usually you will also have some information about the file formatting.\n",
    "You can run shell commands inside the notebook by starting the line with an exclamation mark."
   ]
  },
  {
   "cell_type": "code",
   "execution_count": 1,
   "metadata": {
    "scrolled": true
   },
   "outputs": [
    {
     "name": "stdout",
     "output_type": "stream",
     "text": [
      "2 200 5136.03 1.0296 0.0632989 66.9923 4149.64 7005.41 0.857476 0.0588335 118.266 4153.79 4170.68 4145.8 4154.74 4152.24 4141.47 4173.34 4129.62 4141.8 4158.7 4135.79 4140.04 4128.11 4131.23 4156.82 4128.57 4166.02 4144.55 4141.52 4133.13 4134.21 4160.63 4161.76 4126.27 4148.89 4136.9 4130.08 4146.22 4130.12 4156.7 4130.18 4155.1 4157.67 4160.9 4160.27 4168.4 4142.69 4158.21 4172.39 4143.67 4152.19 4137.76 4158.18 4167.28 4169.64 4139.98 4157.75 4145.74 4144.62 4157.48 4149.83 4154.54 4149.57 4163.6 4157.64 4145.49 4142.95 4127.74 4168.53 4166.8 4170 4165.18 4208.21 4281.28 4436.98 4805.44 5595.11 6724.02 7696.29 8174.7 8236.56 8065.03 7876.59 7659.38 7421.87 7259.16 7069.88 6851.5 6715.6 6563.89 6396.11 6277.59 6144.92 5990.1 5898.83 5796.82 5709.69 5580.24 5515.84 5439.1 5344.56 5286 5219.46 5130.83 5056.62 5002.6 4956.97 4920.22 4854.81 4832.45 4803.12 4722.64 4718.78 4660.3 4620.71 4596.74 4601.24 4553.26 4531.14 4535.63 4493.12 4481.53 4488.13 4535.71 4661.52 4873.28 5370.02 6273.53 7520.73 8722.57 9463.49 9776.29 9709.79 9497.14 9270.07 8972.1 8712.11 8467.12 8232.32 7990.9 7766.1 7528.47 7362.78 7190.67 7020.69 6842.09 6664.48 6558.01 6387.48 6254.46 6158.07 6038.99 5931.53 5833.12 5731.64 5636.46 5560.18 5488.23 5387.41 5328.1 5238.79 5219.23 5151.05 5064.88 5040.11 4983.19 4941.65 4864.47 4864.64 4805.07 4779.61 4746.85 4714.14 4678.36 4638.77 4607.34 4581.19 4557.51 4556.97 4531.35 4507.28 4466.64 4446.1 4426.73 4407.06 4379.2 4399.78 4355.91 4376.6 4344.8 4333.45 4343.27 4313.74 4303.09 4300.49 4313.38 4296.01 4254.39 4267.31 4236.18 4269.35 4266.46 4225.29 4241.78 4212.96 4250.49 4233.18 4226.1 4215.01 4214.52\r\n"
     ]
    }
   ],
   "source": [
    "!head -1 ../data/training_pm_nosat.dat"
   ]
  },
  {
   "cell_type": "markdown",
   "metadata": {},
   "source": [
    "## Data import\n",
    "This is a bit of a \"hands-on\" approach that focuses on using base functions in python and\n",
    "Numpy to read the file and create some arrays we can work with.\n",
    "Reading the file is pretty straightforward, but some challenges appear when the file is large.\n",
    "We will prepare for that scenario from the get-go.\n",
    "\n",
    "training_pm_nosat.dat contains 1M mixed single and double events.\\\n",
    "We set a datapath and filename. Note that we use the 'relative' path to our data, from the\n",
    "location of the notebook. This works well in a github repo where you control the folder structure.\n",
    "And if someone else will clone or fork the repo, they don't need to replace the paths.\n",
    "\n",
    "For small datafiles you can read the entire file into memory, store it as a list where each element is a line in the file, and work from there.\n",
    "```python\n",
    "with open(DATA_PATH + fname, \"r\") as datafile:\n",
    "    data = datafile.readlines()\n",
    "```\n",
    "You now have a list `data` containing all the lines in the file. Using the `with` statement is a shortcut so\n",
    "we don't need to manually close the file after opening it.\n",
    "However, reading the entire file into memory might not be possible, so we will read it line by line instead,\n",
    "looping over the file. This read only one line into memory at a time.\n",
    "\n",
    "Some resources for this exercise\n",
    "* [Python I/O File handling](https://docs.python.org/3/tutorial/inputoutput.html#reading-and-writing-files)\n",
    "* [Numpy array indexing](https://numpy.org/doc/1.18/reference/arrays.indexing.html)\n",
    "* [Numpy's fromstring() function](https://numpy.org/doc/1.18/reference/generated/numpy.fromstring.html)"
   ]
  },
  {
   "cell_type": "code",
   "execution_count": 13,
   "metadata": {},
   "outputs": [],
   "source": [
    "# Imports\n",
    "import numpy as np\n",
    "import matplotlib.pyplot as plt"
   ]
  },
  {
   "cell_type": "code",
   "execution_count": 28,
   "metadata": {},
   "outputs": [],
   "source": [
    "# Set path to data and filename. You can also store it a single variable\n",
    "# DATA_PATH = \"../data/CeBr10k_1.txt\" if you prefer. Here we expect to use at least the path itself later,\n",
    "# so we separate them.\n",
    "DATA_PATH = \"../data/\"\n",
    "fname = \"training_pm_nosat.dat\"\n",
    "\n",
    "# Number of lines to import\n",
    "num_lines = 10"
   ]
  },
  {
   "cell_type": "code",
   "execution_count": 9,
   "metadata": {},
   "outputs": [],
   "source": [
    "# Lists to store each image, energy, position, and labels. We know the filesize, so we could create\n",
    "# arrays that perfectly match the data, but let's assume we don't know how many lines we're going to\n",
    "# read. \n",
    "labels = []\n",
    "amplitudes = []\n",
    "rises = []\n",
    "decays = []\n",
    "positions = []\n",
    "offsets = []\n",
    "samples = []\n",
    "\n",
    "# Open the file\n",
    "with open(DATA_PATH + fname, \"r\") as datafile:\n",
    "    # Loop over the file, line by line\n",
    "    linecount = 0\n",
    "    for line in datafile:\n",
    "        if linecount >= num_lines:\n",
    "            break\n",
    "        # The line is still a string when read from the file. We use numpys fromstring()\n",
    "        # to convert the line to a numpy array, specifying that each element is separated\n",
    "        # by a space. This does not convert the line in the file, only the \"copy\" that we have\n",
    "        # read into memory. fromstring() also removes any trailing newline ('\\n') characters\n",
    "        # so we don't have to worry about that. The values will be interpreted as floats.\n",
    "        line = np.fromstring(line, sep=' ')\n",
    "        \n",
    "        # id, samples, amplitude1, rise1, decay1, position1, offset, amplitude2, rise2, decay2, position2, val1, val2,\n",
    "        # First we grab the known variables for the data, and set labels to 0 / 1 for single / double\n",
    "        label = 0 if line[0] == 1 else 1\n",
    "        amplitude = np.array((line[2], line[7]))\n",
    "        rise = np.array((line[3], line[8]))\n",
    "        decay = np.array((line[4], line[9]))\n",
    "        pos = np.array((line[5], line[10]))\n",
    "        offset = line[6]\n",
    "        \n",
    "        # Grab the sample values, located at index 11 to the end of the line\n",
    "        sample = np.array(line[11:])\n",
    "\n",
    "        # Finally, we take the separated arrays and add them to their respective \"storage\" lists.\n",
    "        labels.append(label)\n",
    "        amplitudes.append(amplitude)\n",
    "        rises.append(rise)\n",
    "        decays.append(decay)\n",
    "        positions.append(pos)\n",
    "        offsets.append(offset)\n",
    "        samples.append(sample)\n",
    "        \n",
    "        linecount += 1\n",
    "\n",
    "        \n",
    "# We've now looped over the entire file. The only thing that remains is to convert the lists\n",
    "# to numpy arrays.\n",
    "labels = np.array(labels)\n",
    "amplitudes = np.array(amplitudes)\n",
    "rises = np.array(rises)\n",
    "decays = np.array(decays)\n",
    "positions = np.array(positions)\n",
    "offsets = np.array(offsets)\n",
    "samples = np.array(samples)"
   ]
  },
  {
   "cell_type": "code",
   "execution_count": 12,
   "metadata": {},
   "outputs": [
    {
     "name": "stdout",
     "output_type": "stream",
     "text": [
      "Labels shape, dtype: (10,) int64\n",
      "Amplitues shape: (10, 2) float64\n",
      "Rises shape: (10, 2) float64\n",
      "Decays shape: (10, 2) float64\n",
      "Positions shape: (10, 2) float64\n",
      "Offsets shape: (10,) float64\n",
      "Samples shape: (10, 200) float64\n"
     ]
    }
   ],
   "source": [
    "# We print the shape of the arrays we've made as a quick check using\n",
    "# the shape property of numpy arrays.\n",
    "print(\"Labels shape, dtype:\", labels.shape, labels.dtype)\n",
    "print(\"Amplitues shape:\", amplitudes.shape, amplitudes.dtype)\n",
    "print(\"Rises shape:\", rises.shape, rises.dtype)\n",
    "print(\"Decays shape:\", decays.shape, decays.dtype)\n",
    "print(\"Positions shape:\", positions.shape, positions.dtype)\n",
    "print(\"Offsets shape:\", offsets.shape, offsets.dtype)\n",
    "print(\"Samples shape:\", samples.shape, samples.dtype)\n"
   ]
  },
  {
   "cell_type": "markdown",
   "metadata": {},
   "source": [
    "The output above tells us that we've got 10000 images, each of length 256, as well as two energy values for each image, and four positions. The images, energies, and positions arrays have two dimensions, while the labels array\n",
    "only has one."
   ]
  },
  {
   "cell_type": "markdown",
   "metadata": {},
   "source": [
    "## Inspection of imported data\n",
    "Let's plot a single and a double event to see what we're working with.\n",
    "We can extract the indices of singles and double using the labels array, and a numpy\n",
    "function called np.where.\n",
    "\n",
    "Resources:\n",
    "* [Matplotlib tutorial](https://matplotlib.org/tutorials/introductory/pyplot.html)\n",
    "* [Numpy np.where() doc](https://numpy.org/doc/stable/reference/generated/numpy.where.html)"
   ]
  },
  {
   "cell_type": "code",
   "execution_count": 18,
   "metadata": {},
   "outputs": [
    {
     "name": "stdout",
     "output_type": "stream",
     "text": [
      "Num imported single events:  (1,)\n",
      "Num imported double events:  (9,)\n"
     ]
    }
   ],
   "source": [
    "# np.where returns a tuple where the first (and in this case only) element is our indices\n",
    "singles = np.where(labels == 0)[0]\n",
    "doubles = np.where(labels == 1)[0]\n",
    "print(\"Num imported single events: \", singles.shape)\n",
    "print(\"Num imported double events: \", doubles.shape)"
   ]
  },
  {
   "cell_type": "code",
   "execution_count": 46,
   "metadata": {},
   "outputs": [
    {
     "data": {
      "image/png": "[encoded data removed]",
      "text/plain": [
       "<Figure size 864x360 with 2 Axes>"
      ]
     },
     "metadata": {
      "needs_background": "light"
     },
     "output_type": "display_data"
    },
    {
     "name": "stdout",
     "output_type": "stream",
     "text": [
      "============ Single event info\n",
      "Amplitude: [10801.     0.]\n",
      "Rise: [1.03706 0.     ]\n",
      "Decay: [0.0621728 0.       ]\n",
      "Positions: [51.7892  0.    ]\n",
      "Offset: 4082.57\n",
      "============ Double event info\n",
      "Amplitude: [5136.03 7005.41]\n",
      "Rise: [1.0296   0.857476]\n",
      "Decay: [0.0632989 0.0588335]\n",
      "Positions: [ 66.9923 118.266 ]\n",
      "Offset: 4149.64\n"
     ]
    }
   ],
   "source": [
    "# We can now grab a single and a double event by using the index arrays we made\n",
    "# Ex. to get the sample values for the first single event: samples[singles[0]]\n",
    "\n",
    "# Plot a single and double event side by side\n",
    "# Add red dotted lines for where the positions are.\n",
    "fig, ax = plt.subplots(1, 2, figsize=(12, 5))\n",
    "ax[0].plot(samples[singles[0]])\n",
    "ax[0].axvline(positions[singles[0], 0], color='r', linestyle='--')\n",
    "ax[0].set_title(\"Single event \")\n",
    "ax[0].set_xlabel(\"Sample number\")\n",
    "ax[0].set_ylabel(\"Amplitude\")\n",
    "\n",
    "ax[1].plot(samples[doubles[0]])\n",
    "ax[1].axvline(positions[doubles[0], 0], color='r', linestyle='--')\n",
    "ax[1].axvline(positions[doubles[0], 1], color='r', linestyle='--')\n",
    "ax[1].set_title(\"Double event\")\n",
    "ax[1].set_xlabel(\"Sample number\")\n",
    "ax[1].set_ylabel(\"Amplitude\")\n",
    "plt.show()\n",
    "\n",
    "# Print the additional information we have about the events.\n",
    "print(\"============ Single event info\")\n",
    "print(\"Amplitude:\", amplitudes[singles[0]])\n",
    "print(\"Rise:\", rises[singles[0]])\n",
    "print(\"Decay:\", decays[singles[0]])\n",
    "print(\"Positions:\", positions[singles[0]])\n",
    "print(\"Offset:\", offsets[singles[0]])\n",
    "\n",
    "print(\"============ Double event info\")\n",
    "print(\"Amplitude:\", amplitudes[doubles[0]])\n",
    "print(\"Rise:\", rises[doubles[0]])\n",
    "print(\"Decay:\", decays[doubles[0]])\n",
    "print(\"Positions:\", positions[doubles[0]])\n",
    "print(\"Offset:\", offsets[doubles[0]])"
   ]
  },
  {
   "cell_type": "code",
   "execution_count": 70,
   "metadata": {},
   "outputs": [
    {
     "data": {
      "image/png": "[encoded data removed]",
      "text/plain": [
       "<Figure size 864x360 with 2 Axes>"
      ]
     },
     "metadata": {
      "needs_background": "light"
     },
     "output_type": "display_data"
    }
   ],
   "source": [
    "# Plotting with annotations\n",
    "fig, ax = plt.subplots(1, 2, figsize=(12, 5))\n",
    "ax[0].plot(samples[singles[0]])\n",
    "ax[0].plot(positions[singles[0], 0], amplitudes[singles[0], 0], 'rx')\n",
    "ax[0].set_title(\"Single event\")\n",
    "ax[0].set_xlabel(\"Sample number\")\n",
    "ax[0].set_ylabel(\"Amplitude\")\n",
    "\n",
    "ax[1].plot(samples[doubles[0]])\n",
    "ax[1].plot(positions[doubles[0], 0], amplitudes[doubles[0], 0], 'rx')\n",
    "ax[1].plot(positions[doubles[0], 1], amplitudes[doubles[0], 1], 'rx')\n",
    "ax[1].set_title(\"Double event\")\n",
    "ax[1].set_xlabel(\"Sample number\")\n",
    "ax[1].set_ylabel(\"Amplitude\")\n",
    "plt.show()"
   ]
  },
  {
   "cell_type": "markdown",
   "metadata": {},
   "source": [
    "## Separate and save the data\n",
    "First, we separate the data into a *training set* and a *test set*. The test set will be used to give us an \"out-of-sample\"\n",
    "accuracy. To do this properly, the model will never see the test set in any way, shape, or form before we've trained, evaluated, and optimized it as far as we'd like to go. In other words, we use the training set to make the model as good as possible, and only then do we predict on the test set and report out-of-sample metrics.\n",
    "\n",
    "You can do the splitting of data manually by slicing the arrays, but scikit-learn has it's own function for doing this,\n",
    "[train_test_split](https://scikit-learn.org/stable/modules/generated/sklearn.model_selection.train_test_split.html?highlight=train_test_split#sklearn.model_selection.train_test_split).\n",
    "Instead of creating copies of the dataset, filling up often precious memory, we will work with indices that we\n",
    "pass around. This also makes it easier to trace any results back to the original inputs."
   ]
  },
  {
   "cell_type": "markdown",
   "metadata": {},
   "source": [
    "### Numpy format"
   ]
  },
  {
   "cell_type": "code",
   "execution_count": 18,
   "metadata": {},
   "outputs": [],
   "source": [
    "from sklearn.model_selection import train_test_split"
   ]
  },
  {
   "cell_type": "code",
   "execution_count": 19,
   "metadata": {},
   "outputs": [],
   "source": [
    "# Indices for all data\n",
    "x_idx = np.arange(images.shape[0])\n",
    "\n",
    "# Split the indices into training and test sets (take out 10% of the data as test)\n",
    "train_idx, test_idx, not_used1, not_used2 = train_test_split(x_idx, x_idx, test_size = 0.1)\n",
    "\n",
    "# Save the training and test data in the data folder\n",
    "# We also need to save the labels, energies, and positions. This allows us to\n",
    "# quickly load it if we need it.\n",
    "\n",
    "# Save the training data. np.save adds a \".npy\" file extension to the provided filename.\n",
    "# We save the files in the same folder as the original datafile.\n",
    "np.save(DATA_PATH + \"images_training\", images[train_idx])\n",
    "np.save(DATA_PATH + \"energies_training\", energies[train_idx])\n",
    "np.save(DATA_PATH + \"positions_training\", positions[train_idx])\n",
    "np.save(DATA_PATH + \"labels_training\", labels[train_idx])\n",
    "\n",
    "# Save the test data\n",
    "np.save(DATA_PATH + \"images_test\", images[test_idx])\n",
    "np.save(DATA_PATH + \"energies_test\", energies[test_idx])\n",
    "np.save(DATA_PATH + \"positions_test\", positions[test_idx])\n",
    "np.save(DATA_PATH + \"labels_test\", labels[test_idx])"
   ]
  },
  {
   "cell_type": "markdown",
   "metadata": {},
   "source": [
    "You could also opt to store the entire training and test sets as two files, by concatenating them.\n",
    "This is just personal preference."
   ]
  },
  {
   "cell_type": "markdown",
   "metadata": {},
   "source": [
    "### hdf5 format"
   ]
  },
  {
   "cell_type": "code",
   "execution_count": 20,
   "metadata": {},
   "outputs": [],
   "source": [
    "import h5py"
   ]
  },
  {
   "cell_type": "code",
   "execution_count": 21,
   "metadata": {},
   "outputs": [],
   "source": [
    "# Open separate files for saving training and test datasets\n",
    "data_training = h5py.File(DATA_PATH + \"data_training.hdf5\", \"w\")\n",
    "data_test = h5py.File(DATA_PATH + \"data_test.hdf5\", \"w\")\n",
    "\n",
    "# Training data\n",
    "data_training.create_dataset('images', data=images[train_idx])\n",
    "data_training.create_dataset('energies', data=energies[train_idx])\n",
    "data_training.create_dataset('positions', data=positions[train_idx])\n",
    "data_training.create_dataset('labels', data=labels[train_idx])\n",
    "data_training.close()\n",
    "\n",
    "# Test data\n",
    "data_test.create_dataset('images', data=images[test_idx])\n",
    "data_test.create_dataset('energies', data=energies[test_idx])\n",
    "data_test.create_dataset('positions', data=positions[test_idx])\n",
    "data_test.create_dataset('labels', data=labels[test_idx])\n",
    "data_test.close()"
   ]
  }
 ],
 "metadata": {
  "hide_input": false,
  "kernelspec": {
   "display_name": "Python 3",
   "language": "python",
   "name": "python3"
  },
  "language_info": {
   "codemirror_mode": {
    "name": "ipython",
    "version": 3
   },
   "file_extension": ".py",
   "mimetype": "text/x-python",
   "name": "python",
   "nbconvert_exporter": "python",
   "pygments_lexer": "ipython3",
   "version": "3.8.2"
  },
  "latex_envs": {
   "LaTeX_envs_menu_present": true,
   "autoclose": false,
   "autocomplete": true,
   "bibliofile": "biblio.bib",
   "cite_by": "apalike",
   "current_citInitial": 1,
   "eqLabelWithNumbers": true,
   "eqNumInitial": 1,
   "hotkeys": {
    "equation": "Ctrl-E",
    "itemize": "Ctrl-I"
   },
   "labels_anchors": false,
   "latex_user_defs": false,
   "report_style_numbering": false,
   "user_envs_cfg": false
  },
  "toc": {
   "base_numbering": 1,
   "nav_menu": {},
   "number_sections": true,
   "sideBar": true,
   "skip_h1_title": false,
   "title_cell": "Table of Contents",
   "title_sidebar": "Contents",
   "toc_cell": false,
   "toc_position": {},
   "toc_section_display": true,
   "toc_window_display": false
  }
 },
 "nbformat": 4,
 "nbformat_minor": 4
}
