{
 "cells": [
  {
   "cell_type": "markdown",
   "metadata": {},
   "source": [
    "# Classification using dense neural network (fully connected)\n",
    "For this exercise we'll be using [Keras](https://keras.io/).. In addition you need either [TensorFlow](https://www.tensorflow.org/) or [PyTorch](https://pytorch.org/)\n",
    "as the underlying framework. Or, you can also continue with scikit-learn, which also has dense / fully connected networks implemented."
   ]
  },
  {
   "cell_type": "markdown",
   "metadata": {},
   "source": [
    "## Normalization of image data\n",
    "We apply the same normalization as for logistic regression. Recall that we have saved this function in a file\n",
    "called `helper_functions.py`, and can import and use it directly from there."
   ]
  },
  {
   "cell_type": "markdown",
   "metadata": {},
   "source": [
    "## Numpy approach"
   ]
  },
  {
   "cell_type": "code",
   "execution_count": 3,
   "metadata": {},
   "outputs": [
    {
     "name": "stderr",
     "output_type": "stream",
     "text": [
      "Using TensorFlow backend.\n"
     ]
    }
   ],
   "source": [
    "# Imports\n",
    "import numpy as np\n",
    "import matplotlib.pyplot as plt\n",
    "from keras.models import Sequential\n",
    "from keras.layers import Dense, InputLayer\n",
    "from sklearn.model_selection import train_test_split\n",
    "from helper_functions import normalize_image_data"
   ]
  },
  {
   "cell_type": "code",
   "execution_count": 4,
   "metadata": {},
   "outputs": [],
   "source": [
    "# Load images and labels.\n",
    "DATA_PATH = \"../data/\"\n",
    "\n",
    "images = np.load(DATA_PATH+\"images_training.npy\")\n",
    "labels = np.load(DATA_PATH+\"labels_training.npy\")\n",
    "\n",
    "# Just like with logistic regression, we need to reshape the images to\n",
    "# be one-dimensional for the input to the model.\n",
    "images = images.reshape(images.shape[0], 256)\n",
    "\n",
    "# Split the training indices into training and validation. \n",
    "# Validate with 25% of the data (default). Can be adjusted.\n",
    "x_idx = np.arange(images.shape[0])\n",
    "train_idx, val_idx, not_used1, not_used2 = train_test_split(x_idx, x_idx, test_size = 0.25)"
   ]
  },
  {
   "cell_type": "markdown",
   "metadata": {},
   "source": [
    "### Build a model\n",
    "We're going to start off with a simple feed-forward neural network one hidden layer. This is a binary classifier, so\n",
    "we techincally only need it to output one number."
   ]
  },
  {
   "cell_type": "code",
   "execution_count": 5,
   "metadata": {},
   "outputs": [
    {
     "name": "stdout",
     "output_type": "stream",
     "text": [
      "Model: \"sequential_1\"\n",
      "_________________________________________________________________\n",
      "Layer (type)                 Output Shape              Param #   \n",
      "=================================================================\n",
      "dense_1 (Dense)              (None, 64)                16448     \n",
      "_________________________________________________________________\n",
      "dense_2 (Dense)              (None, 1)                 65        \n",
      "=================================================================\n",
      "Total params: 16,513\n",
      "Trainable params: 16,513\n",
      "Non-trainable params: 0\n",
      "_________________________________________________________________\n"
     ]
    }
   ],
   "source": [
    "# Init the Sequential model\n",
    "model = Sequential()\n",
    "# Add Input layer\n",
    "model.add(InputLayer(input_shape=(images.shape[1],)))\n",
    "\n",
    "# Add hidden layer\n",
    "model.add(Dense(64, activation='relu'))\n",
    "\n",
    "# Add output layer.\n",
    "model.add(Dense(1, activation='sigmoid'))\n",
    "\n",
    "# Finally, compile the model and print a summary. Loss function and optimizer is set during compilation.\n",
    "model.compile(\n",
    "    loss='binary_crossentropy',\n",
    "    optimizer='adam',\n",
    "    metrics=['accuracy']\n",
    ")\n",
    "model.summary()"
   ]
  },
  {
   "cell_type": "markdown",
   "metadata": {},
   "source": [
    "### Train the model\n",
    "The fit() function returns a history object that we'll store to plot how the training developed with epochs.\n",
    "First we need to set som training parameters.\n",
    "\n",
    "Note that if you would like to change something about the the model and run training again, you must\n",
    "re-compile the model. Otherwise you will essentially just be doubling the number of epochs."
   ]
  },
  {
   "cell_type": "code",
   "execution_count": 6,
   "metadata": {},
   "outputs": [],
   "source": [
    "# Set parameters for the training run. For the small set of 10k events you can probably get \n",
    "# away with even 100 epochs in a fairly small time, depending on your CPU.\n",
    "epochs = 20\n",
    "batch_size = 32"
   ]
  },
  {
   "cell_type": "code",
   "execution_count": 7,
   "metadata": {},
   "outputs": [
    {
     "name": "stdout",
     "output_type": "stream",
     "text": [
      "Train on 6750 samples, validate on 2250 samples\n",
      "Epoch 1/20\n",
      "6750/6750 [==============================] - 1s 149us/step - loss: 0.5644 - accuracy: 0.7213 - val_loss: 0.4911 - val_accuracy: 0.7418\n",
      "Epoch 2/20\n",
      "6750/6750 [==============================] - 1s 109us/step - loss: 0.4916 - accuracy: 0.7407 - val_loss: 0.4782 - val_accuracy: 0.7507\n",
      "Epoch 3/20\n",
      "6750/6750 [==============================] - 1s 111us/step - loss: 0.4766 - accuracy: 0.7517 - val_loss: 0.4686 - val_accuracy: 0.7529\n",
      "Epoch 4/20\n",
      "6750/6750 [==============================] - 1s 107us/step - loss: 0.4638 - accuracy: 0.7588 - val_loss: 0.4585 - val_accuracy: 0.7578\n",
      "Epoch 5/20\n",
      "6750/6750 [==============================] - 1s 121us/step - loss: 0.4526 - accuracy: 0.7655 - val_loss: 0.4509 - val_accuracy: 0.7622\n",
      "Epoch 6/20\n",
      "6750/6750 [==============================] - 1s 121us/step - loss: 0.4396 - accuracy: 0.7741 - val_loss: 0.4566 - val_accuracy: 0.7716\n",
      "Epoch 7/20\n",
      "6750/6750 [==============================] - 1s 111us/step - loss: 0.4269 - accuracy: 0.7822 - val_loss: 0.4386 - val_accuracy: 0.7782\n",
      "Epoch 8/20\n",
      "6750/6750 [==============================] - 1s 112us/step - loss: 0.4113 - accuracy: 0.8024 - val_loss: 0.4344 - val_accuracy: 0.7849\n",
      "Epoch 9/20\n",
      "6750/6750 [==============================] - 1s 112us/step - loss: 0.3959 - accuracy: 0.8145 - val_loss: 0.4376 - val_accuracy: 0.7893\n",
      "Epoch 10/20\n",
      "6750/6750 [==============================] - 1s 111us/step - loss: 0.3800 - accuracy: 0.8243 - val_loss: 0.4248 - val_accuracy: 0.7973\n",
      "Epoch 11/20\n",
      "6750/6750 [==============================] - 1s 111us/step - loss: 0.3655 - accuracy: 0.8418 - val_loss: 0.4130 - val_accuracy: 0.8040\n",
      "Epoch 12/20\n",
      "6750/6750 [==============================] - 1s 110us/step - loss: 0.3522 - accuracy: 0.8505 - val_loss: 0.4349 - val_accuracy: 0.7960\n",
      "Epoch 13/20\n",
      "6750/6750 [==============================] - 1s 112us/step - loss: 0.3387 - accuracy: 0.8604 - val_loss: 0.4671 - val_accuracy: 0.7916\n",
      "Epoch 14/20\n",
      "6750/6750 [==============================] - 1s 128us/step - loss: 0.3269 - accuracy: 0.8671 - val_loss: 0.4734 - val_accuracy: 0.7924\n",
      "Epoch 15/20\n",
      "6750/6750 [==============================] - 1s 126us/step - loss: 0.3182 - accuracy: 0.8714 - val_loss: 0.4707 - val_accuracy: 0.7969\n",
      "Epoch 16/20\n",
      "6750/6750 [==============================] - 1s 158us/step - loss: 0.3077 - accuracy: 0.8756 - val_loss: 0.4556 - val_accuracy: 0.8004\n",
      "Epoch 17/20\n",
      "6750/6750 [==============================] - 1s 121us/step - loss: 0.2984 - accuracy: 0.8831 - val_loss: 0.4697 - val_accuracy: 0.8018\n",
      "Epoch 18/20\n",
      "6750/6750 [==============================] - 1s 131us/step - loss: 0.2903 - accuracy: 0.8879 - val_loss: 0.4877 - val_accuracy: 0.8027\n",
      "Epoch 19/20\n",
      "6750/6750 [==============================] - 1s 137us/step - loss: 0.2835 - accuracy: 0.8914 - val_loss: 0.4660 - val_accuracy: 0.8111\n",
      "Epoch 20/20\n",
      "6750/6750 [==============================] - 1s 103us/step - loss: 0.2768 - accuracy: 0.8959 - val_loss: 0.4904 - val_accuracy: 0.8076\n"
     ]
    }
   ],
   "source": [
    "# The validation_data keywork expects a 'tuple' (val_x, val_y) so we make one on the fly\n",
    "history = model.fit(\n",
    "    x=normalize_image_data(images[train_idx]),\n",
    "    y=labels[train_idx],\n",
    "    validation_data=(normalize_image_data(images[val_idx]), labels[val_idx]),\n",
    "    epochs=epochs,\n",
    "    batch_size=batch_size,\n",
    ")"
   ]
  },
  {
   "cell_type": "markdown",
   "metadata": {},
   "source": [
    "### Evaluate the model\n",
    "Let's use the history object to plot how the loss and accuracy changed during training.\n",
    "The history contains a dictionary of the currently applied metrics as keys. In this case we have the\n",
    "keys \"loss\", \"accuracy\", \"val_loss\", and \"val_accuracy\". \"loss\" and \"accuracy\" pertain to the training data, while\n",
    "\"val_loss\" and \"val_accuracy\" are the metrics for the validation data we provided."
   ]
  },
  {
   "cell_type": "code",
   "execution_count": 8,
   "metadata": {},
   "outputs": [
    {
     "data": {
      "text/plain": [
       "<matplotlib.legend.Legend at 0x7f346031a110>"
      ]
     },
     "execution_count": 8,
     "metadata": {},
     "output_type": "execute_result"
    },
    {
     "data": {
      "image/png": "[encoded data removed]",
      "text/plain": [
       "<Figure size 1008x432 with 2 Axes>"
      ]
     },
     "metadata": {
      "needs_background": "light"
     },
     "output_type": "display_data"
    }
   ],
   "source": [
    "# Plot loss and val_loss as one plot, and accuracy and val_accuracy as another, side-by-side.\n",
    "# We'll also save this plot as plot_history() in the helper_functions file, so any time we need to\n",
    "# plot the history object like this we can just call that function and pass the history object as\n",
    "# an argument.\n",
    "fig, ax = plt.subplots(1, 2, figsize=(14, 6))\n",
    "num_epochs = len(history.history['loss'])\n",
    "ax[0].plot(history.history['loss'], label='training')\n",
    "ax[0].plot(history.history['val_loss'], label='validation')\n",
    "ax[0].set_title(\"Model loss\")\n",
    "ax[0].set_xlabel(\"Epoch\")\n",
    "ax[0].set_ylabel(\"Loss\")\n",
    "ax[0].set_xticks(np.arange(num_epochs))\n",
    "ax[0].legend()\n",
    "\n",
    "ax[1].plot(history.history['accuracy'], label='training')\n",
    "ax[1].plot(history.history['val_accuracy'], label='validation')\n",
    "ax[1].set_title(\"Model accuracy\")\n",
    "ax[1].set_xlabel(\"Epoch\")\n",
    "ax[1].set_ylabel(\"Accuracy\")\n",
    "ax[1].set_xticks(np.arange(num_epochs))\n",
    "ax[1].legend()"
   ]
  },
  {
   "cell_type": "markdown",
   "metadata": {},
   "source": [
    "The plotting function will only plot these two metrics regardless of how many other metrics we add to the model,\n",
    "but it's a starting point that can be extended as you might add more metrics."
   ]
  }
 ],
 "metadata": {
  "hide_input": false,
  "kernelspec": {
   "display_name": "Python 3",
   "language": "python",
   "name": "python3"
  },
  "language_info": {
   "codemirror_mode": {
    "name": "ipython",
    "version": 3
   },
   "file_extension": ".py",
   "mimetype": "text/x-python",
   "name": "python",
   "nbconvert_exporter": "python",
   "pygments_lexer": "ipython3",
   "version": "3.7.7"
  },
  "toc": {
   "base_numbering": 1,
   "nav_menu": {},
   "number_sections": true,
   "sideBar": true,
   "skip_h1_title": false,
   "title_cell": "Table of Contents",
   "title_sidebar": "Contents",
   "toc_cell": false,
   "toc_position": {},
   "toc_section_display": true,
   "toc_window_display": false
  }
 },
 "nbformat": 4,
 "nbformat_minor": 4
}
