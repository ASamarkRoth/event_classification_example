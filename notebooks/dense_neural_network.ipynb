{
 "cells": [
  {
   "cell_type": "markdown",
   "metadata": {},
   "source": [
    "# Classification using dense neural network (fully connected)\n",
    "For this exercise we'll be using [Keras](https://keras.io/).. In addition you need either [TensorFlow](https://www.tensorflow.org/) or [PyTorch](https://pytorch.org/)\n",
    "as the underlying framework. Or, you can also continue with scikit-learn, which also has dense / fully connected networks implemented."
   ]
  },
  {
   "cell_type": "markdown",
   "metadata": {},
   "source": [
    "## Normalization of image data\n",
    "We apply the same normalization as for logistic regression. Recall that we have saved this function in a file\n",
    "called `helper_functions.py`, and can import and use it directly from there."
   ]
  },
  {
   "cell_type": "markdown",
   "metadata": {},
   "source": [
    "## Numpy approach"
   ]
  },
  {
   "cell_type": "code",
   "execution_count": 2,
   "metadata": {},
   "outputs": [
    {
     "name": "stderr",
     "output_type": "stream",
     "text": [
      "Using TensorFlow backend.\n"
     ]
    }
   ],
   "source": [
    "# Imports\n",
    "import numpy as np\n",
    "import matplotlib.pyplot as plt\n",
    "from keras.models import Sequential\n",
    "from keras.layers import Dense, InputLayer\n",
    "from sklearn.model_selection import train_test_split\n",
    "from helper_functions import normalize_image_data"
   ]
  },
  {
   "cell_type": "code",
   "execution_count": 3,
   "metadata": {},
   "outputs": [],
   "source": [
    "# Load images and labels.\n",
    "DATA_PATH = \"../data/\"\n",
    "\n",
    "images = np.load(DATA_PATH+\"images_training.npy\")\n",
    "labels = np.load(DATA_PATH+\"labels_training.npy\")\n",
    "\n",
    "# Just like with logistic regression, we need to reshape the images to\n",
    "# be one-dimensional for the input to the model.\n",
    "images = images.reshape(images.shape[0], 256)\n",
    "\n",
    "# Split the training indices into training and validation. \n",
    "# Validate with 25% of the data (default). Can be adjusted.\n",
    "x_idx = np.arange(images.shape[0])\n",
    "train_idx, val_idx, not_used1, not_used2 = train_test_split(x_idx, x_idx, test_size = 0.25)"
   ]
  },
  {
   "cell_type": "markdown",
   "metadata": {},
   "source": [
    "### Build a model\n",
    "We're going to start off with a simple feed-forward neural network one hidden layer. This is a binary classifier, so\n",
    "we techincally only need it to output one number."
   ]
  },
  {
   "cell_type": "code",
   "execution_count": 4,
   "metadata": {},
   "outputs": [
    {
     "name": "stdout",
     "output_type": "stream",
     "text": [
      "Model: \"sequential_1\"\n",
      "_________________________________________________________________\n",
      "Layer (type)                 Output Shape              Param #   \n",
      "=================================================================\n",
      "dense_1 (Dense)              (None, 64)                16448     \n",
      "_________________________________________________________________\n",
      "dense_2 (Dense)              (None, 1)                 65        \n",
      "=================================================================\n",
      "Total params: 16,513\n",
      "Trainable params: 16,513\n",
      "Non-trainable params: 0\n",
      "_________________________________________________________________\n"
     ]
    }
   ],
   "source": [
    "# Init the Sequential model\n",
    "model = Sequential()\n",
    "# Add Input layer\n",
    "model.add(InputLayer(input_shape=(images.shape[1],)))\n",
    "\n",
    "# Add hidden layer\n",
    "model.add(Dense(64, activation='relu'))\n",
    "\n",
    "# Add output layer.\n",
    "model.add(Dense(1, activation='sigmoid'))\n",
    "\n",
    "# Finally, compile the model and print a summary. Loss function and optimizer is set during compilation.\n",
    "model.compile(\n",
    "    loss='binary_crossentropy',\n",
    "    optimizer='adam',\n",
    "    metrics=['accuracy']\n",
    ")\n",
    "model.summary()"
   ]
  },
  {
   "cell_type": "markdown",
   "metadata": {},
   "source": [
    "### Train the model\n",
    "The fit() function returns a history object that we'll store to plot how the training developed with epochs.\n",
    "First we need to set som training parameters.\n",
    "\n",
    "Note that if you would like to change something about the the model and run training again, you must\n",
    "re-compile the model. Otherwise you will essentially just be doubling the number of epochs."
   ]
  },
  {
   "cell_type": "code",
   "execution_count": 5,
   "metadata": {},
   "outputs": [],
   "source": [
    "# Set parameters for the training run. For the small set of 10k events you can probably get \n",
    "# away with even 100 epochs in a fairly small time, depending on your CPU.\n",
    "epochs = 20\n",
    "batch_size = 32"
   ]
  },
  {
   "cell_type": "code",
   "execution_count": 6,
   "metadata": {
    "scrolled": true
   },
   "outputs": [
    {
     "name": "stdout",
     "output_type": "stream",
     "text": [
      "Train on 6750 samples, validate on 2250 samples\n",
      "Epoch 1/20\n",
      "6750/6750 [==============================] - 1s 94us/step - loss: 0.5534 - accuracy: 0.7130 - val_loss: 0.4899 - val_accuracy: 0.7476\n",
      "Epoch 2/20\n",
      "6750/6750 [==============================] - 1s 78us/step - loss: 0.4890 - accuracy: 0.7413 - val_loss: 0.4795 - val_accuracy: 0.7520\n",
      "Epoch 3/20\n",
      "6750/6750 [==============================] - 1s 92us/step - loss: 0.4762 - accuracy: 0.7495 - val_loss: 0.4721 - val_accuracy: 0.7560\n",
      "Epoch 4/20\n",
      "6750/6750 [==============================] - 0s 73us/step - loss: 0.4637 - accuracy: 0.7541 - val_loss: 0.4654 - val_accuracy: 0.7569\n",
      "Epoch 5/20\n",
      "6750/6750 [==============================] - 1s 79us/step - loss: 0.4520 - accuracy: 0.7622 - val_loss: 0.4544 - val_accuracy: 0.7640\n",
      "Epoch 6/20\n",
      "6750/6750 [==============================] - 0s 73us/step - loss: 0.4391 - accuracy: 0.7754 - val_loss: 0.4470 - val_accuracy: 0.7689\n",
      "Epoch 7/20\n",
      "6750/6750 [==============================] - 1s 74us/step - loss: 0.4257 - accuracy: 0.7876 - val_loss: 0.4476 - val_accuracy: 0.7720\n",
      "Epoch 8/20\n",
      "6750/6750 [==============================] - 0s 73us/step - loss: 0.4118 - accuracy: 0.7960 - val_loss: 0.4308 - val_accuracy: 0.7840\n",
      "Epoch 9/20\n",
      "6750/6750 [==============================] - 0s 73us/step - loss: 0.3982 - accuracy: 0.8117 - val_loss: 0.4318 - val_accuracy: 0.7809\n",
      "Epoch 10/20\n",
      "6750/6750 [==============================] - 0s 73us/step - loss: 0.3849 - accuracy: 0.8190 - val_loss: 0.4114 - val_accuracy: 0.7947\n",
      "Epoch 11/20\n",
      "6750/6750 [==============================] - 1s 75us/step - loss: 0.3716 - accuracy: 0.8326 - val_loss: 0.4157 - val_accuracy: 0.7893\n",
      "Epoch 12/20\n",
      "6750/6750 [==============================] - 1s 75us/step - loss: 0.3594 - accuracy: 0.8422 - val_loss: 0.4104 - val_accuracy: 0.7956\n",
      "Epoch 13/20\n",
      "6750/6750 [==============================] - 1s 77us/step - loss: 0.3471 - accuracy: 0.8517 - val_loss: 0.3893 - val_accuracy: 0.8107\n",
      "Epoch 14/20\n",
      "6750/6750 [==============================] - 1s 75us/step - loss: 0.3380 - accuracy: 0.8567 - val_loss: 0.4006 - val_accuracy: 0.8058\n",
      "Epoch 15/20\n",
      "6750/6750 [==============================] - 1s 85us/step - loss: 0.3276 - accuracy: 0.8644 - val_loss: 0.3932 - val_accuracy: 0.8142\n",
      "Epoch 16/20\n",
      "6750/6750 [==============================] - 1s 75us/step - loss: 0.3184 - accuracy: 0.8693 - val_loss: 0.4001 - val_accuracy: 0.8116\n",
      "Epoch 17/20\n",
      "6750/6750 [==============================] - 1s 76us/step - loss: 0.3102 - accuracy: 0.8764 - val_loss: 0.3806 - val_accuracy: 0.8227\n",
      "Epoch 18/20\n",
      "6750/6750 [==============================] - 1s 79us/step - loss: 0.3021 - accuracy: 0.8807 - val_loss: 0.3813 - val_accuracy: 0.8258\n",
      "Epoch 19/20\n",
      "6750/6750 [==============================] - 1s 75us/step - loss: 0.2965 - accuracy: 0.8841 - val_loss: 0.3870 - val_accuracy: 0.8262\n",
      "Epoch 20/20\n",
      "6750/6750 [==============================] - 0s 71us/step - loss: 0.2885 - accuracy: 0.8876 - val_loss: 0.3901 - val_accuracy: 0.8253\n"
     ]
    }
   ],
   "source": [
    "# The validation_data keywork expects a 'tuple' (val_x, val_y) so we make one on the fly\n",
    "history = model.fit(\n",
    "    x=normalize_image_data(images[train_idx]),\n",
    "    y=labels[train_idx],\n",
    "    validation_data=(normalize_image_data(images[val_idx]), labels[val_idx]),\n",
    "    epochs=epochs,\n",
    "    batch_size=batch_size,\n",
    ")"
   ]
  },
  {
   "cell_type": "markdown",
   "metadata": {},
   "source": [
    "### Evaluate the model\n",
    "Let's use the history object to plot how the loss and accuracy changed during training.\n",
    "The history contains a dictionary of the currently applied metrics as keys. In this case we have the\n",
    "keys \"loss\", \"accuracy\", \"val_loss\", and \"val_accuracy\". \"loss\" and \"accuracy\" pertain to the training data, while\n",
    "\"val_loss\" and \"val_accuracy\" are the metrics for the validation data we provided."
   ]
  },
  {
   "cell_type": "code",
   "execution_count": 7,
   "metadata": {},
   "outputs": [
    {
     "data": {
      "text/plain": [
       "<matplotlib.legend.Legend at 0x7f86ec4b6f10>"
      ]
     },
     "execution_count": 7,
     "metadata": {},
     "output_type": "execute_result"
    },
    {
     "data": {
      "image/png": "[encoded data removed]",
      "text/plain": [
       "<Figure size 1008x432 with 2 Axes>"
      ]
     },
     "metadata": {
      "needs_background": "light"
     },
     "output_type": "display_data"
    }
   ],
   "source": [
    "# Plot loss and val_loss as one plot, and accuracy and val_accuracy as another, side-by-side.\n",
    "# We'll also save this plot as plot_history() in the helper_functions file, so any time we need to\n",
    "# plot the history object like this we can just call that function and pass the history object as\n",
    "# an argument.\n",
    "fig, ax = plt.subplots(1, 2, figsize=(14, 6))\n",
    "num_epochs = len(history.history['loss'])\n",
    "ax[0].plot(history.history['loss'], label='training')\n",
    "ax[0].plot(history.history['val_loss'], label='validation')\n",
    "ax[0].set_title(\"Model loss\")\n",
    "ax[0].set_xlabel(\"Epoch\")\n",
    "ax[0].set_ylabel(\"Loss\")\n",
    "ax[0].set_xticks(np.arange(num_epochs))\n",
    "ax[0].legend()\n",
    "\n",
    "ax[1].plot(history.history['accuracy'], label='training')\n",
    "ax[1].plot(history.history['val_accuracy'], label='validation')\n",
    "ax[1].set_title(\"Model accburacy\")\n",
    "ax[1].set_xlabel(\"Epoch\")\n",
    "ax[1].set_ylabel(\"Accuracy\")\n",
    "ax[1].set_xticks(np.arange(num_epochs))\n",
    "ax[1].legend()"
   ]
  },
  {
   "cell_type": "markdown",
   "metadata": {},
   "source": [
    "The plotting function will only plot these two metrics regardless of how many other metrics we add to the model,\n",
    "but it's a starting point that can be extended as you might add more metrics."
   ]
  },
  {
   "cell_type": "code",
   "execution_count": 8,
   "metadata": {},
   "outputs": [],
   "source": [
    "# Predict on the validation set\n",
    "pred = model.predict([normalize_image_data(images[val_idx])])"
   ]
  },
  {
   "cell_type": "markdown",
   "metadata": {},
   "source": [
    "## Confusion Matrix\n",
    "The confusion matrix can be a useful metric to gain a little bit\n",
    "more insight into specifically what the model gets wrong.\n",
    "* Top left: Single events classified as single events\n",
    "* Top right: Single events classified as double events\n",
    "* Bottom left: Double events classified as single events\n",
    "* Bottom right: Double events classified as double events"
   ]
  },
  {
   "cell_type": "code",
   "execution_count": 9,
   "metadata": {},
   "outputs": [
    {
     "data": {
      "text/plain": [
       "array([[1080,   12],\n",
       "       [ 381,  777]])"
      ]
     },
     "execution_count": 9,
     "metadata": {},
     "output_type": "execute_result"
    }
   ],
   "source": [
    "# Confusion Matrix\n",
    "from sklearn.metrics import confusion_matrix\n",
    "# Convert sigmoid values from prediction to integers so it works with the function.\n",
    "\n",
    "result = pred > 0.5\n",
    "confusion_matrix(labels[val_idx], result)"
   ]
  },
  {
   "cell_type": "markdown",
   "metadata": {},
   "source": [
    "## F1-Score"
   ]
  },
  {
   "cell_type": "code",
   "execution_count": 10,
   "metadata": {},
   "outputs": [
    {
     "name": "stdout",
     "output_type": "stream",
     "text": [
      "F1-score:  0.7981510015408321\n"
     ]
    }
   ],
   "source": [
    "from sklearn.metrics import f1_score\n",
    "score = f1_score(labels[val_idx], result)\n",
    "print(\"F1-score: \", score)"
   ]
  },
  {
   "cell_type": "markdown",
   "metadata": {},
   "source": [
    "## ROC-Curve"
   ]
  },
  {
   "cell_type": "code",
   "execution_count": 11,
   "metadata": {},
   "outputs": [
    {
     "data": {
      "image/png": "[encoded data removed]",
      "text/plain": [
       "<Figure size 432x288 with 1 Axes>"
      ]
     },
     "metadata": {
      "needs_background": "light"
     },
     "output_type": "display_data"
    }
   ],
   "source": [
    "from sklearn.metrics import roc_curve, auc\n",
    "\n",
    "fpr, tpr, thresholds = roc_curve(labels[val_idx], pred)\n",
    "roc_auc = auc(fpr, tpr)\n",
    "# Plot the curve\n",
    "plt.figure()\n",
    "plt.plot(fpr, tpr, color='darkorange', lw=2, label=\"ROC curve (area = {:0.2f})\".format(roc_auc))\n",
    "plt.plot([0, 1], [0, 1], color='navy', lw=2, linestyle='--')\n",
    "plt.xlim([0.0, 1.0])\n",
    "plt.ylim([0.0, 1.05])\n",
    "plt.xlabel('False Positive Rate')\n",
    "plt.ylabel('True Positive Rate')\n",
    "plt.title('Receiver operating characteristic')\n",
    "plt.legend()\n",
    "plt.show()"
   ]
  }
 ],
 "metadata": {
  "hide_input": false,
  "kernelspec": {
   "display_name": "Python 3",
   "language": "python",
   "name": "python3"
  },
  "language_info": {
   "codemirror_mode": {
    "name": "ipython",
    "version": 3
   },
   "file_extension": ".py",
   "mimetype": "text/x-python",
   "name": "python",
   "nbconvert_exporter": "python",
   "pygments_lexer": "ipython3",
   "version": "3.7.7"
  },
  "toc": {
   "base_numbering": 1,
   "nav_menu": {},
   "number_sections": true,
   "sideBar": true,
   "skip_h1_title": false,
   "title_cell": "Table of Contents",
   "title_sidebar": "Contents",
   "toc_cell": false,
   "toc_position": {},
   "toc_section_display": true,
   "toc_window_display": false
  }
 },
 "nbformat": 4,
 "nbformat_minor": 4
}
