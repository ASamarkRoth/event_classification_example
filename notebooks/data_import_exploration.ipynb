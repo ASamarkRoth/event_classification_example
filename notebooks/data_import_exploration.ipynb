{
 "cells": [
  {
   "cell_type": "markdown",
   "metadata": {},
   "source": [
    "# Data import and exploration\n",
    "This notebook goes through data import and exploration using Numpy. You could also use Pandas to work with this data,\n",
    "but it's not very well suited to image data. Regardless of which approach you choose, at some point you'll need to \n",
    "efficiently manipulate the images, and. Pandas is really good for tabular data, though,\n",
    "and we'll use Pandas here to get some descriptive statistics about our target values (energies and positions)."
   ]
  },
  {
   "cell_type": "markdown",
   "metadata": {},
   "source": [
    "## First, look at the data\n",
    "Sean Liddick provided information about how the file is formatted:\n",
    "\n",
    "The file contains one event per line, including the event energies and positions.\n",
    "The values are space-separated. The first 256 values correspond to the 16x16 detector image, flattened. \n",
    "The next values are, in order:\n",
    "Energy1, Xpos1, Ypos1, Energy2, Xpos2, Ypos2\n",
    "There are two types of events in the dataset. Single and double.\\\n",
    "For single events Xpos2 and Ypos2 are set to -100 instead of 0 to make a clear distinction.\\\n",
    "The energy units are MeV, and the position units are in pixels.\n",
    "\n",
    "Open up the file and look at it. In most linux terminals you can also use the command\n",
    "`head` to display a set number of lines from the start of the file. We'll start with the first line.\n",
    "Usually you will also have some information about the file formatting.\n",
    "You can run shell commands inside the notebook by starting the line with an exclamation mark."
   ]
  },
  {
   "cell_type": "code",
   "execution_count": 1,
   "metadata": {
    "scrolled": true
   },
   "outputs": [
    {
     "name": "stdout",
     "output_type": "stream",
     "text": [
      "53 81 96 117 175 194 229 221 179 112 112 80 74 51 36 29 73 92 140 187 253 385 480 395 298 221 145 101 73 59 52 43 64 131 165 261 405 760 1161 864 458 275 180 101 97 68 60 41 79 126 171 287 654 1808 4037 2244 759 350 197 133 86 78 58 35 75 130 153 324 731 2248 6480 3036 889 358 170 116 105 101 65 39 67 127 171 270 559 1158 1840 1324 618 287 172 103 104 78 75 39 48 95 120 185 366 485 628 496 360 213 152 111 90 70 69 36 58 73 109 149 157 229 280 268 243 172 142 106 81 73 73 40 44 66 88 115 126 148 125 156 118 127 122 119 103 108 87 73 34 49 68 71 104 112 117 107 100 108 128 138 172 134 142 93 37 46 54 52 66 67 88 91 98 109 151 210 284 309 234 144 22 47 43 56 69 63 63 68 109 113 177 372 743 781 429 228 18 34 42 42 40 59 57 76 70 118 220 541 1633 1769 543 230 32 33 36 46 42 46 56 64 74 93 207 435 935 957 501 204 12 34 28 38 37 35 45 59 82 98 154 251 343 393 256 173 13 21 27 34 36 37 27 35 42 63 109 144 162 191 136 115 0.942514 4.30804 6.70703 0.33576 12.6208 13.0421\r\n"
     ]
    }
   ],
   "source": [
    "!head -1 ../data/CeBr10k_1.txt"
   ]
  },
  {
   "cell_type": "markdown",
   "metadata": {},
   "source": [
    "That last bit of information indicates that the event we printed above is a double event.\n",
    "We also note that the 256 \"pixel\" values in the detector image are integers, while the remaining\n",
    "6 values for energy and position are floats."
   ]
  },
  {
   "cell_type": "markdown",
   "metadata": {},
   "source": []
  },
  {
   "cell_type": "markdown",
   "metadata": {},
   "source": [
    "## Data import\n",
    "This is a bit of a \"hands-on\" approach that focuses on using base functions in python and\n",
    "Numpy to read the file and create some arrays we can work with.\n",
    "Reading the file is pretty straightforward, but some challenges appear when the file is large.\n",
    "We will prepare for that scenario from the get-go.\n",
    "\n",
    "CeBr10k_1.txt containes 10000 mixed single and double events.\\\n",
    "We set a datapath and filename. Note that we use the 'relative' path to our data, from the\n",
    "location of the notebook. This works well in a github repo where you control the folder structure.\n",
    "And if someone else will clone or fork the repo, they don't need to replace the paths.\n",
    "\n",
    "For small datafiles you can read the entire file into memory, store it as a list where each element is a line in the file, and work from there.\n",
    "```python\n",
    "with open(DATA_PATH + fname, \"r\") as datafile:\n",
    "    data = datafile.readlines()\n",
    "```\n",
    "You now have a list `data` containing all the lines in the file. Using the `with` statement is a shortcut so\n",
    "we don't need to manually close the file after opening it.\n",
    "However, reading the entire file into memory might not be possible, so we will read it line by line instead,\n",
    "looping over the file. This read only one line into memory at a time.\n",
    "\n",
    "Some resources for this exercise\n",
    "* [Python I/O File handling](https://docs.python.org/3/tutorial/inputoutput.html#reading-and-writing-files)\n",
    "* [Numpy array indexing](https://numpy.org/doc/1.18/reference/arrays.indexing.html)\n",
    "* [Numpy's fromstring() function](https://numpy.org/doc/1.18/reference/generated/numpy.fromstring.html)"
   ]
  },
  {
   "cell_type": "code",
   "execution_count": 2,
   "metadata": {},
   "outputs": [],
   "source": [
    "# Import the numpy module\n",
    "import numpy as np"
   ]
  },
  {
   "cell_type": "code",
   "execution_count": 3,
   "metadata": {},
   "outputs": [],
   "source": [
    "# Set path to data and filename. You can also store it a single variable\n",
    "# DATA_PATH = \"../data/CeBr10k_1.txt\" if you prefer. Here we expect to use at least the path itself later,\n",
    "# so we separate them.\n",
    "DATA_PATH = \"../data/\"\n",
    "fname = \"CeBr10k_1.txt\""
   ]
  },
  {
   "cell_type": "code",
   "execution_count": 4,
   "metadata": {},
   "outputs": [],
   "source": [
    "# Lists to store each image, energy, position, and labels. We know the filesize, so we could create\n",
    "# arrays that perfectly match the data, but let's assume we don't know how many lines we're going to\n",
    "# read. \n",
    "images = []\n",
    "energies = []\n",
    "positions = []\n",
    "labels = []\n",
    "\n",
    "# Open the file\n",
    "with open(DATA_PATH + fname, \"r\") as datafile:\n",
    "    # Loop over the file, line by line\n",
    "    for line in datafile:\n",
    "        \n",
    "        # The line is still a string when read from the file. We use numpys fromstring()\n",
    "        # to convert the line to a numpy array, specifying that each element is separated\n",
    "        # by a space. This does not convert the line in the file, only the \"copy\" that we have\n",
    "        # read into memory. fromstring() also removes any trailing newline ('\\n') characters\n",
    "        # so we don't have to worry about that. The values will be interpreted as floats.\n",
    "        line = np.fromstring(line, sep=' ')\n",
    "        \n",
    "        # Now we pick slices of the array. The first 256 elements are 'pixels' of the detector image\n",
    "        image = line[:256]\n",
    "        \n",
    "        # Get the two energies, at index 256 and 259.\n",
    "        energy = np.array((line[256], line[259]))\n",
    "        \n",
    "        # And the four position values\n",
    "        pos = np.array((line[257], line[258], line[260], line[261]))\n",
    "\n",
    "        # Set label for the event. If Energy2 is 0 it is a single event. Any other values corresponds \n",
    "        # to a double event. We label single events as type 0, and doubles as type 1. We could also \n",
    "        # use Xpos2 or Ypos2 for this purpose.\n",
    "        if energy[1] == 0:\n",
    "            label = 0\n",
    "        else:\n",
    "            label = 1\n",
    "\n",
    "        # Finally, we take the separated arrays and add them to their respective \"storage\" lists.\n",
    "        images.append(image)\n",
    "        energies.append(energy)\n",
    "        positions.append(pos)\n",
    "        labels.append(label)\n",
    "\n",
    "        \n",
    "# We've now looped over the entire file. The only thing that remains is to convert the lists\n",
    "# to numpy arrays.\n",
    "images = np.array(images)\n",
    "energies = np.array(energies)\n",
    "positions = np.array(positions)\n",
    "labels = np.array(labels)"
   ]
  },
  {
   "cell_type": "code",
   "execution_count": 5,
   "metadata": {},
   "outputs": [
    {
     "name": "stdout",
     "output_type": "stream",
     "text": [
      "Images shape: (10000, 256)\n",
      "Energies shape: (10000, 2)\n",
      "Positions shape: (10000, 4)\n",
      "Labels shape: (10000,)\n"
     ]
    }
   ],
   "source": [
    "# We print the shape of the arrays we've made as a quick check using\n",
    "# the shape property of numpy arrays.\n",
    "print(\"Images shape:\", images.shape)\n",
    "print(\"Energies shape:\",energies.shape)\n",
    "print(\"Positions shape:\", positions.shape)\n",
    "print(\"Labels shape:\", labels.shape)"
   ]
  },
  {
   "cell_type": "markdown",
   "metadata": {},
   "source": [
    "The output above tells us that we've got 10000 images, each of length 256, as well as two energy values for each image, and four positions. The images, energies, and positions arrays have two dimensions, while the labels array\n",
    "only has one."
   ]
  },
  {
   "cell_type": "markdown",
   "metadata": {},
   "source": [
    "## Inspection of imported data\n",
    "If possible, it's usually a good idea to have a look at the data to confirm that\n",
    "the import gives a correct representation. In this case we want to check that the\n",
    "images look reasonable and match with positions and label.\n",
    "\n",
    "Resources:\n",
    "* [Matplotlib tutorial](https://matplotlib.org/tutorials/introductory/pyplot.html)"
   ]
  },
  {
   "cell_type": "code",
   "execution_count": 6,
   "metadata": {
    "scrolled": false
   },
   "outputs": [
    {
     "name": "stdout",
     "output_type": "stream",
     "text": [
      "Label of image 0: 1\n",
      "Positions: [ 4.30804  6.70703 12.6208  13.0421 ]\n",
      "Energies: [0.942514 0.33576 ]\n",
      "\n",
      "Label of image 1: 0\n",
      "Positions: [  12.7629     1.52259 -100.      -100.     ]\n",
      "Energies: [0.302704 0.      ]\n"
     ]
    }
   ],
   "source": [
    "print(\"Label of image 0:\", labels[0])\n",
    "print(\"Positions:\", positions[0])\n",
    "print(\"Energies:\", energies[0])\n",
    "print(\"\\nLabel of image 1:\", labels[1])\n",
    "print(\"Positions:\", positions[1])\n",
    "print(\"Energies:\", energies[1])"
   ]
  },
  {
   "cell_type": "markdown",
   "metadata": {},
   "source": [
    "So we have two events. One double event and one single event.\n",
    "We can plot the detector images using matplotlib."
   ]
  },
  {
   "cell_type": "code",
   "execution_count": 7,
   "metadata": {},
   "outputs": [],
   "source": [
    "import matplotlib.pyplot as plt"
   ]
  },
  {
   "cell_type": "code",
   "execution_count": 8,
   "metadata": {
    "scrolled": true
   },
   "outputs": [
    {
     "data": {
      "text/plain": [
       "Text(0, 0.5, 'Pixel intensity')"
      ]
     },
     "execution_count": 8,
     "metadata": {},
     "output_type": "execute_result"
    },
    {
     "data": {
      "image/png": "[encoded data removed]",
      "text/plain": [
       "<Figure size 720x288 with 2 Axes>"
      ]
     },
     "metadata": {
      "needs_background": "light"
     },
     "output_type": "display_data"
    }
   ],
   "source": [
    "# Plot the two pixel arrays side by side\n",
    "fig, ax = plt.subplots(1, 2, figsize=(10,4))\n",
    "ax[0].plot(images[0])\n",
    "ax[0].set_title(\"Image 0, double\")\n",
    "ax[0].set_xlabel(\"Pixel number\")\n",
    "ax[0].set_ylabel(\"Pixel intensity\")\n",
    "\n",
    "ax[1].plot(images[1])\n",
    "ax[1].set_title(\"Image 1, single\")\n",
    "ax[1].set_xlabel(\"Pixel number\")\n",
    "ax[1].set_ylabel(\"Pixel intensity\")"
   ]
  },
  {
   "cell_type": "markdown",
   "metadata": {},
   "source": [
    "The plots above don't look like images, but we can still see a difference between them. \n",
    "Image 0 looks like it has two peaks, while image 1 looks like it only has one. \n",
    "This, however, is just one way to plot the detector image. Let's plot it like an actual image \n",
    "(or matrix), the way the detector is set up.\n",
    "\n",
    "By default, the color of each pixel in the following plot is related to the pixel's value,\n",
    "but the value itself isn't displayed. So we're going to add a \"colorbar\" to each image that gives\n",
    "us that information. Additionaly, we will plot the position of the events as a red \"x\", to see if it matches.\n",
    "\n",
    "Note that the indices of the positions will be swapped when we plot. This is because imshow uses matrix indexing\n",
    "when plotting, so it's row-major, or (y, x) instead of (x, y).\n",
    "In our data, a single image is currently just a flat array of pixels. To plot it as an image, we must reshape it.\n",
    "This is a simple task when it's a numpy array, using a built-in function for arrays called \"reshape\". We will\n",
    "reshape the image to 16x16 pixels. By default, the first 16 values of the array will be row 0, value 17-32 will be row 1 and so on.\n",
    "\n",
    "Convention in this case is to plot the detector image with origins in the lower left, like a standard coordinate\n",
    "system. (This can be different from research group to research group). We specify this by passing the keyword \"origin\" to imshow. "
   ]
  },
  {
   "cell_type": "code",
   "execution_count": 9,
   "metadata": {
    "scrolled": true
   },
   "outputs": [
    {
     "data": {
      "text/plain": [
       "<matplotlib.colorbar.Colorbar at 0x7f084bc37d50>"
      ]
     },
     "execution_count": 9,
     "metadata": {},
     "output_type": "execute_result"
    },
    {
     "data": {
      "image/png": "[encoded data removed]",
      "text/plain": [
       "<Figure size 720x360 with 4 Axes>"
      ]
     },
     "metadata": {
      "needs_background": "light"
     },
     "output_type": "display_data"
    }
   ],
   "source": [
    "# Plot detector image, including positions and a colorbar.\n",
    "fig, ax = plt.subplots(1, 2, figsize=(10, 5))\n",
    "image_0 = ax[0].imshow(images[0].reshape((16, 16)).T, origin='lower')\n",
    "ax[0].plot(positions[0, 0], positions[0, 1], 'rx')\n",
    "ax[0].plot(positions[0, 2], positions[0, 3], 'rx')\n",
    "ax[0].set_title(\"image 0, type: \" + str(labels[0]))\n",
    "fig.colorbar(image_0, ax=ax[0])\n",
    "\n",
    "image_1 = ax[1].imshow(images[1].reshape((16, 16)).T, origin='lower')\n",
    "ax[1].set_title(\"image 1, type: \" + str(labels[1]))\n",
    "ax[1].plot(positions[1, 0], positions[1, 1], 'rx')\n",
    "fig.colorbar(image_1, ax=ax[1])"
   ]
  },
  {
   "cell_type": "markdown",
   "metadata": {},
   "source": [
    "This looks pretty good. the left image has two clearly visible peaks, while the right image only has one,\n",
    "as expected. Looking at the values we printed above:\n",
    "```\n",
    "Label of image 0: 1\n",
    "Positions: [ 4.30804  6.70703 12.6208  13.0421 ]\n",
    "Energies: [0.942514 0.33576 ]\n",
    "\n",
    "Label of image 1: 0\n",
    "Positions: [  12.7629     1.52259 -100.      -100.     ]\n",
    "Energies: [0.302704 0.      ]\n",
    "```\n",
    "For image one the positions fits the peak"
   ]
  },
  {
   "cell_type": "markdown",
   "metadata": {},
   "source": [
    "## Looking further into the detector images\n",
    "From the pixel intensities above we can see that there's quite some difference in\n",
    "intensity. This may affect the model's ability to learn. We delve a little deeper into the numbers, \n",
    "by checking the maximum, minimum, and mean pixel intensity."
   ]
  },
  {
   "cell_type": "code",
   "execution_count": 10,
   "metadata": {},
   "outputs": [
    {
     "name": "stdout",
     "output_type": "stream",
     "text": [
      "Image max: 9951.0\n",
      "Image min: 0.0\n",
      "Image mean: 157.71130703125\n"
     ]
    }
   ],
   "source": [
    "p_max = np.amax(images)\n",
    "p_min = np.amin(images)\n",
    "p_mean = np.mean(images)\n",
    "print(\"Image max:\", p_max)\n",
    "print(\"Image min:\", p_min)\n",
    "print(\"Image mean:\", p_mean)"
   ]
  },
  {
   "cell_type": "markdown",
   "metadata": {},
   "source": [
    "### Descriptive statistics with Pandas\n",
    "We're just going to import the energy and positions columns and get some quick statistics about them.\n",
    "This can also be done with [SciPy's stats module](https://docs.scipy.org/doc/scipy/reference/stats.html)."
   ]
  },
  {
   "cell_type": "code",
   "execution_count": 11,
   "metadata": {},
   "outputs": [],
   "source": [
    "import pandas as pd"
   ]
  },
  {
   "cell_type": "markdown",
   "metadata": {},
   "source": [
    "You've probably seen Morten's example with the nuclear binding energies. A great example of a strictly formatted file\n",
    "where you can specify column widths and let pandas do the rest. Here, we don't have specific column widths, but we\n",
    "do have a specific column separator - spaces.\n",
    "\n",
    "Resources\n",
    "* [Pandas' read_table()](https://pandas.pydata.org/pandas-docs/stable/reference/api/pandas.read_table.html)\n",
    "* [Pandas DataFrame](https://pandas.pydata.org/pandas-docs/stable/reference/frame.html)\n",
    "* [Pandas' DataFrame.describe()](https://pandas.pydata.org/pandas-docs/stable/reference/api/pandas.DataFrame.describe.html)"
   ]
  },
  {
   "cell_type": "code",
   "execution_count": 12,
   "metadata": {
    "scrolled": true
   },
   "outputs": [
    {
     "data": {
      "text/html": [
       "<div>\n",
       "<style scoped>\n",
       "    .dataframe tbody tr th:only-of-type {\n",
       "        vertical-align: middle;\n",
       "    }\n",
       "\n",
       "    .dataframe tbody tr th {\n",
       "        vertical-align: top;\n",
       "    }\n",
       "\n",
       "    .dataframe thead th {\n",
       "        text-align: right;\n",
       "    }\n",
       "</style>\n",
       "<table border=\"1\" class=\"dataframe\">\n",
       "  <thead>\n",
       "    <tr style=\"text-align: right;\">\n",
       "      <th></th>\n",
       "      <th>Energy1</th>\n",
       "      <th>Energy2</th>\n",
       "      <th>Xpos1</th>\n",
       "      <th>Ypos1</th>\n",
       "      <th>Xpos2</th>\n",
       "      <th>Ypos2</th>\n",
       "    </tr>\n",
       "  </thead>\n",
       "  <tbody>\n",
       "    <tr>\n",
       "      <th>count</th>\n",
       "      <td>10000.000000</td>\n",
       "      <td>10000.000000</td>\n",
       "      <td>10000.000000</td>\n",
       "      <td>10000.000000</td>\n",
       "      <td>10000.000000</td>\n",
       "      <td>10000.000000</td>\n",
       "    </tr>\n",
       "    <tr>\n",
       "      <th>mean</th>\n",
       "      <td>0.503784</td>\n",
       "      <td>0.247578</td>\n",
       "      <td>7.989531</td>\n",
       "      <td>7.980563</td>\n",
       "      <td>-46.006119</td>\n",
       "      <td>-46.041538</td>\n",
       "    </tr>\n",
       "    <tr>\n",
       "      <th>std</th>\n",
       "      <td>0.289041</td>\n",
       "      <td>0.320705</td>\n",
       "      <td>4.217268</td>\n",
       "      <td>4.252015</td>\n",
       "      <td>54.100166</td>\n",
       "      <td>54.064831</td>\n",
       "    </tr>\n",
       "    <tr>\n",
       "      <th>min</th>\n",
       "      <td>0.000097</td>\n",
       "      <td>0.000000</td>\n",
       "      <td>0.669378</td>\n",
       "      <td>0.667048</td>\n",
       "      <td>-100.000000</td>\n",
       "      <td>-100.000000</td>\n",
       "    </tr>\n",
       "    <tr>\n",
       "      <th>25%</th>\n",
       "      <td>0.251697</td>\n",
       "      <td>0.000000</td>\n",
       "      <td>4.354045</td>\n",
       "      <td>4.336565</td>\n",
       "      <td>-100.000000</td>\n",
       "      <td>-100.000000</td>\n",
       "    </tr>\n",
       "    <tr>\n",
       "      <th>50%</th>\n",
       "      <td>0.510705</td>\n",
       "      <td>0.000000</td>\n",
       "      <td>8.003125</td>\n",
       "      <td>7.935515</td>\n",
       "      <td>-100.000000</td>\n",
       "      <td>-100.000000</td>\n",
       "    </tr>\n",
       "    <tr>\n",
       "      <th>75%</th>\n",
       "      <td>0.751691</td>\n",
       "      <td>0.494104</td>\n",
       "      <td>11.548125</td>\n",
       "      <td>11.705625</td>\n",
       "      <td>8.039598</td>\n",
       "      <td>7.981738</td>\n",
       "    </tr>\n",
       "    <tr>\n",
       "      <th>max</th>\n",
       "      <td>0.999913</td>\n",
       "      <td>0.999863</td>\n",
       "      <td>15.332200</td>\n",
       "      <td>15.328700</td>\n",
       "      <td>15.330700</td>\n",
       "      <td>15.331400</td>\n",
       "    </tr>\n",
       "  </tbody>\n",
       "</table>\n",
       "</div>"
      ],
      "text/plain": [
       "            Energy1       Energy2         Xpos1         Ypos1         Xpos2  \\\n",
       "count  10000.000000  10000.000000  10000.000000  10000.000000  10000.000000   \n",
       "mean       0.503784      0.247578      7.989531      7.980563    -46.006119   \n",
       "std        0.289041      0.320705      4.217268      4.252015     54.100166   \n",
       "min        0.000097      0.000000      0.669378      0.667048   -100.000000   \n",
       "25%        0.251697      0.000000      4.354045      4.336565   -100.000000   \n",
       "50%        0.510705      0.000000      8.003125      7.935515   -100.000000   \n",
       "75%        0.751691      0.494104     11.548125     11.705625      8.039598   \n",
       "max        0.999913      0.999863     15.332200     15.328700     15.330700   \n",
       "\n",
       "              Ypos2  \n",
       "count  10000.000000  \n",
       "mean     -46.041538  \n",
       "std       54.064831  \n",
       "min     -100.000000  \n",
       "25%     -100.000000  \n",
       "50%     -100.000000  \n",
       "75%        7.981738  \n",
       "max       15.331400  "
      ]
     },
     "execution_count": 12,
     "metadata": {},
     "output_type": "execute_result"
    }
   ],
   "source": [
    "# We already have the data path and filename\n",
    "# Pandas expect the first line to be headers, but we have no headers, so we specify it to be None.\n",
    "# We also set all values to the type np.float32\n",
    "#columns = [256, 257, 258, 259, 260, 261]\n",
    "#df = pd.read_table(DATA_PATH + fname, sep=' ', header=None, dtype=np.float32, usecols=columns)\n",
    "df = pd.read_table(DATA_PATH + fname, sep=' ', header=None, dtype=np.float32)\n",
    "# We can rename the positions and energy columns to keep that correct\n",
    "df.rename(\n",
    "    columns={\n",
    "        256: 'Energy1',\n",
    "        257: 'Xpos1',\n",
    "        258: 'Ypos1',\n",
    "        259: 'Energy2',\n",
    "        260: 'Xpos2',\n",
    "        261: 'Ypos2'\n",
    "        },\n",
    "    inplace=True\n",
    ")\n",
    "# Output stats for the columns with energies and positions.\n",
    "stat_columns = ['Energy1', 'Energy2', 'Xpos1', 'Ypos1', 'Xpos2', 'Ypos2']\n",
    "df[stat_columns].describe()"
   ]
  },
  {
   "cell_type": "markdown",
   "metadata": {},
   "source": [
    "Looking over the numbers, the mean values for Energ2, Xpos2, and Ypos2 seem off.\n",
    "The reason is that we haven't separated the data into single events and double events.\n",
    "Recall that for single events, Energy2 is set to 0, and Xpos2 and Ypos2 are both set to -100.\n",
    "We need to separate the two types of events.\n",
    "\n",
    "To do this we can use a boolean expression to extract only the rows we want to look at. We'll use the\n",
    "position this time around."
   ]
  },
  {
   "cell_type": "code",
   "execution_count": 13,
   "metadata": {},
   "outputs": [],
   "source": [
    "singles = df['Xpos2'] == -100\n",
    "doubles = df['Xpos2'] != -100"
   ]
  },
  {
   "cell_type": "markdown",
   "metadata": {},
   "source": [
    "Now we're going to sort of 'double-index' the dataframe. The first index gives us a dataframe\n",
    "that only shows the rows containing single events. The second index specifies which columns we want to see.\n",
    "The order of the indices is not important."
   ]
  },
  {
   "cell_type": "code",
   "execution_count": 14,
   "metadata": {
    "scrolled": true
   },
   "outputs": [
    {
     "data": {
      "text/html": [
       "<div>\n",
       "<style scoped>\n",
       "    .dataframe tbody tr th:only-of-type {\n",
       "        vertical-align: middle;\n",
       "    }\n",
       "\n",
       "    .dataframe tbody tr th {\n",
       "        vertical-align: top;\n",
       "    }\n",
       "\n",
       "    .dataframe thead th {\n",
       "        text-align: right;\n",
       "    }\n",
       "</style>\n",
       "<table border=\"1\" class=\"dataframe\">\n",
       "  <thead>\n",
       "    <tr style=\"text-align: right;\">\n",
       "      <th></th>\n",
       "      <th>Energy1</th>\n",
       "      <th>Energy2</th>\n",
       "      <th>Xpos1</th>\n",
       "      <th>Ypos1</th>\n",
       "      <th>Xpos2</th>\n",
       "      <th>Ypos2</th>\n",
       "    </tr>\n",
       "  </thead>\n",
       "  <tbody>\n",
       "    <tr>\n",
       "      <th>count</th>\n",
       "      <td>5002.000000</td>\n",
       "      <td>5002.0</td>\n",
       "      <td>5002.000000</td>\n",
       "      <td>5002.000000</td>\n",
       "      <td>5002.0</td>\n",
       "      <td>5002.0</td>\n",
       "    </tr>\n",
       "    <tr>\n",
       "      <th>mean</th>\n",
       "      <td>0.505196</td>\n",
       "      <td>0.0</td>\n",
       "      <td>8.002673</td>\n",
       "      <td>7.985090</td>\n",
       "      <td>-100.0</td>\n",
       "      <td>-100.0</td>\n",
       "    </tr>\n",
       "    <tr>\n",
       "      <th>std</th>\n",
       "      <td>0.292676</td>\n",
       "      <td>0.0</td>\n",
       "      <td>4.200381</td>\n",
       "      <td>4.219958</td>\n",
       "      <td>0.0</td>\n",
       "      <td>0.0</td>\n",
       "    </tr>\n",
       "    <tr>\n",
       "      <th>min</th>\n",
       "      <td>0.000113</td>\n",
       "      <td>0.0</td>\n",
       "      <td>0.673776</td>\n",
       "      <td>0.667048</td>\n",
       "      <td>-100.0</td>\n",
       "      <td>-100.0</td>\n",
       "    </tr>\n",
       "    <tr>\n",
       "      <th>25%</th>\n",
       "      <td>0.247151</td>\n",
       "      <td>0.0</td>\n",
       "      <td>4.415858</td>\n",
       "      <td>4.395275</td>\n",
       "      <td>-100.0</td>\n",
       "      <td>-100.0</td>\n",
       "    </tr>\n",
       "    <tr>\n",
       "      <th>50%</th>\n",
       "      <td>0.507744</td>\n",
       "      <td>0.0</td>\n",
       "      <td>8.019080</td>\n",
       "      <td>7.935830</td>\n",
       "      <td>-100.0</td>\n",
       "      <td>-100.0</td>\n",
       "    </tr>\n",
       "    <tr>\n",
       "      <th>75%</th>\n",
       "      <td>0.758117</td>\n",
       "      <td>0.0</td>\n",
       "      <td>11.542475</td>\n",
       "      <td>11.643875</td>\n",
       "      <td>-100.0</td>\n",
       "      <td>-100.0</td>\n",
       "    </tr>\n",
       "    <tr>\n",
       "      <th>max</th>\n",
       "      <td>0.999913</td>\n",
       "      <td>0.0</td>\n",
       "      <td>15.332200</td>\n",
       "      <td>15.328700</td>\n",
       "      <td>-100.0</td>\n",
       "      <td>-100.0</td>\n",
       "    </tr>\n",
       "  </tbody>\n",
       "</table>\n",
       "</div>"
      ],
      "text/plain": [
       "           Energy1  Energy2        Xpos1        Ypos1   Xpos2   Ypos2\n",
       "count  5002.000000   5002.0  5002.000000  5002.000000  5002.0  5002.0\n",
       "mean      0.505196      0.0     8.002673     7.985090  -100.0  -100.0\n",
       "std       0.292676      0.0     4.200381     4.219958     0.0     0.0\n",
       "min       0.000113      0.0     0.673776     0.667048  -100.0  -100.0\n",
       "25%       0.247151      0.0     4.415858     4.395275  -100.0  -100.0\n",
       "50%       0.507744      0.0     8.019080     7.935830  -100.0  -100.0\n",
       "75%       0.758117      0.0    11.542475    11.643875  -100.0  -100.0\n",
       "max       0.999913      0.0    15.332200    15.328700  -100.0  -100.0"
      ]
     },
     "execution_count": 14,
     "metadata": {},
     "output_type": "execute_result"
    }
   ],
   "source": [
    "# Output statistics for single events\n",
    "df[singles][stat_columns].describe()"
   ]
  },
  {
   "cell_type": "code",
   "execution_count": 15,
   "metadata": {
    "scrolled": true
   },
   "outputs": [
    {
     "data": {
      "text/html": [
       "<div>\n",
       "<style scoped>\n",
       "    .dataframe tbody tr th:only-of-type {\n",
       "        vertical-align: middle;\n",
       "    }\n",
       "\n",
       "    .dataframe tbody tr th {\n",
       "        vertical-align: top;\n",
       "    }\n",
       "\n",
       "    .dataframe thead th {\n",
       "        text-align: right;\n",
       "    }\n",
       "</style>\n",
       "<table border=\"1\" class=\"dataframe\">\n",
       "  <thead>\n",
       "    <tr style=\"text-align: right;\">\n",
       "      <th></th>\n",
       "      <th>Energy1</th>\n",
       "      <th>Energy2</th>\n",
       "      <th>Xpos1</th>\n",
       "      <th>Ypos1</th>\n",
       "      <th>Xpos2</th>\n",
       "      <th>Ypos2</th>\n",
       "    </tr>\n",
       "  </thead>\n",
       "  <tbody>\n",
       "    <tr>\n",
       "      <th>count</th>\n",
       "      <td>4998.000000</td>\n",
       "      <td>4998.000000</td>\n",
       "      <td>4998.000000</td>\n",
       "      <td>4998.000000</td>\n",
       "      <td>4998.000000</td>\n",
       "      <td>4998.000000</td>\n",
       "    </tr>\n",
       "    <tr>\n",
       "      <th>mean</th>\n",
       "      <td>0.502372</td>\n",
       "      <td>0.495355</td>\n",
       "      <td>7.976377</td>\n",
       "      <td>7.976031</td>\n",
       "      <td>8.030966</td>\n",
       "      <td>7.960112</td>\n",
       "    </tr>\n",
       "    <tr>\n",
       "      <th>std</th>\n",
       "      <td>0.285380</td>\n",
       "      <td>0.288175</td>\n",
       "      <td>4.234482</td>\n",
       "      <td>4.284275</td>\n",
       "      <td>4.211559</td>\n",
       "      <td>4.212573</td>\n",
       "    </tr>\n",
       "    <tr>\n",
       "      <th>min</th>\n",
       "      <td>0.000097</td>\n",
       "      <td>0.000189</td>\n",
       "      <td>0.669378</td>\n",
       "      <td>0.667362</td>\n",
       "      <td>0.666759</td>\n",
       "      <td>0.668009</td>\n",
       "    </tr>\n",
       "    <tr>\n",
       "      <th>25%</th>\n",
       "      <td>0.257341</td>\n",
       "      <td>0.250011</td>\n",
       "      <td>4.271335</td>\n",
       "      <td>4.282320</td>\n",
       "      <td>4.406513</td>\n",
       "      <td>4.278280</td>\n",
       "    </tr>\n",
       "    <tr>\n",
       "      <th>50%</th>\n",
       "      <td>0.513196</td>\n",
       "      <td>0.494276</td>\n",
       "      <td>7.997455</td>\n",
       "      <td>7.934830</td>\n",
       "      <td>8.048775</td>\n",
       "      <td>7.983100</td>\n",
       "    </tr>\n",
       "    <tr>\n",
       "      <th>75%</th>\n",
       "      <td>0.741211</td>\n",
       "      <td>0.744490</td>\n",
       "      <td>11.550850</td>\n",
       "      <td>11.737025</td>\n",
       "      <td>11.662975</td>\n",
       "      <td>11.514900</td>\n",
       "    </tr>\n",
       "    <tr>\n",
       "      <th>max</th>\n",
       "      <td>0.999753</td>\n",
       "      <td>0.999863</td>\n",
       "      <td>15.331300</td>\n",
       "      <td>15.327100</td>\n",
       "      <td>15.330700</td>\n",
       "      <td>15.331400</td>\n",
       "    </tr>\n",
       "  </tbody>\n",
       "</table>\n",
       "</div>"
      ],
      "text/plain": [
       "           Energy1      Energy2        Xpos1        Ypos1        Xpos2  \\\n",
       "count  4998.000000  4998.000000  4998.000000  4998.000000  4998.000000   \n",
       "mean      0.502372     0.495355     7.976377     7.976031     8.030966   \n",
       "std       0.285380     0.288175     4.234482     4.284275     4.211559   \n",
       "min       0.000097     0.000189     0.669378     0.667362     0.666759   \n",
       "25%       0.257341     0.250011     4.271335     4.282320     4.406513   \n",
       "50%       0.513196     0.494276     7.997455     7.934830     8.048775   \n",
       "75%       0.741211     0.744490    11.550850    11.737025    11.662975   \n",
       "max       0.999753     0.999863    15.331300    15.327100    15.330700   \n",
       "\n",
       "             Ypos2  \n",
       "count  4998.000000  \n",
       "mean      7.960112  \n",
       "std       4.212573  \n",
       "min       0.668009  \n",
       "25%       4.278280  \n",
       "50%       7.983100  \n",
       "75%      11.514900  \n",
       "max      15.331400  "
      ]
     },
     "execution_count": 15,
     "metadata": {},
     "output_type": "execute_result"
    }
   ],
   "source": [
    "# Output statistics for double events\n",
    "df[doubles][stat_columns].describe()"
   ]
  },
  {
   "cell_type": "markdown",
   "metadata": {},
   "source": [
    "Now this looks alot more reasonable. The mean energy is centered between the minimum and maximum, and the\n",
    "mean positions looks to be in the middle of the picture."
   ]
  },
  {
   "cell_type": "markdown",
   "metadata": {},
   "source": [
    "## Separate and save the data\n",
    "First, we separate the data into a *training set* and a *test set*. The test set will be used to give us an \"out-of-sample\"\n",
    "accuracy. To do this properly, the model will never see the test set in any way, shape, or form before we've trained, evaluated, and optimized it as far as we'd like to go. In other words, we use the training set to make the model as good as possible, and only then do we predict on the test set and report out-of-sample metrics.\n",
    "\n",
    "You can do the splitting of data manually by slicing the arrays, but scikit-learn has it's own function for doing this,\n",
    "[train_test_split](https://scikit-learn.org/stable/modules/generated/sklearn.model_selection.train_test_split.html?highlight=train_test_split#sklearn.model_selection.train_test_split).\n",
    "Instead of creating copies of the dataset, filling up often precious memory, we will work with indices that we\n",
    "pass around. This also makes it easier to trace any results back to the original inputs."
   ]
  },
  {
   "cell_type": "markdown",
   "metadata": {},
   "source": [
    "### Numpy format"
   ]
  },
  {
   "cell_type": "code",
   "execution_count": 16,
   "metadata": {},
   "outputs": [],
   "source": [
    "from sklearn.model_selection import train_test_split"
   ]
  },
  {
   "cell_type": "code",
   "execution_count": 17,
   "metadata": {},
   "outputs": [],
   "source": [
    "# Indices for all data\n",
    "x_idx = np.arange(images.shape[0])\n",
    "\n",
    "# Split the indices into training and test sets (take out 10% of the data as test)\n",
    "train_idx, test_idx, not_used1, not_used2 = train_test_split(x_idx, x_idx, test_size = 0.1)\n",
    "\n",
    "# Save the training and test data in the data folder\n",
    "# We also need to save the labels, energies, and positions. This allows us to\n",
    "# quickly load it if we need it.\n",
    "\n",
    "# Save the training data. np.save adds a \".npy\" file extension to the provided filename.\n",
    "# We save the files in the same folder as the original datafile.\n",
    "np.save(DATA_PATH + \"images_training\", images[train_idx])\n",
    "np.save(DATA_PATH + \"energies_training\", energies[train_idx])\n",
    "np.save(DATA_PATH + \"positions_training\", positions[train_idx])\n",
    "np.save(DATA_PATH + \"labels_training\", labels[train_idx])\n",
    "\n",
    "# Save the test data\n",
    "np.save(DATA_PATH + \"images_test\", images[test_idx])\n",
    "np.save(DATA_PATH + \"energies_test\", energies[test_idx])\n",
    "np.save(DATA_PATH + \"positions_test\", positions[test_idx])\n",
    "np.save(DATA_PATH + \"labels_test\", labels[test_idx])"
   ]
  },
  {
   "cell_type": "markdown",
   "metadata": {},
   "source": [
    "You could also opt to store the entire training and test sets as two files, by concatenating them.\n",
    "This is just personal preference."
   ]
  },
  {
   "cell_type": "markdown",
   "metadata": {},
   "source": [
    "### hdf5 format"
   ]
  },
  {
   "cell_type": "code",
   "execution_count": 18,
   "metadata": {},
   "outputs": [],
   "source": [
    "import h5py"
   ]
  },
  {
   "cell_type": "code",
   "execution_count": 19,
   "metadata": {},
   "outputs": [],
   "source": [
    "# Open separate files for saving training and test datasets\n",
    "data_training = h5py.File(DATA_PATH + \"data_training.hdf5\", \"w\")\n",
    "data_test = h5py.File(DATA_PATH + \"data_test.hdf5\", \"w\")\n",
    "\n",
    "# Training data\n",
    "data_training.create_dataset('images', data=images[train_idx])\n",
    "data_training.create_dataset('energies', data=energies[train_idx])\n",
    "data_training.create_dataset('positions', data=positions[train_idx])\n",
    "data_training.create_dataset('labels', data=labels[train_idx])\n",
    "data_training.close()\n",
    "\n",
    "# Test data\n",
    "data_test.create_dataset('images', data=images[test_idx])\n",
    "data_test.create_dataset('energies', data=energies[test_idx])\n",
    "data_test.create_dataset('positions', data=positions[test_idx])\n",
    "data_test.create_dataset('labels', data=labels[test_idx])\n",
    "data_test.close()"
   ]
  }
 ],
 "metadata": {
  "hide_input": false,
  "kernelspec": {
   "display_name": "Python 3",
   "language": "python",
   "name": "python3"
  },
  "language_info": {
   "codemirror_mode": {
    "name": "ipython",
    "version": 3
   },
   "file_extension": ".py",
   "mimetype": "text/x-python",
   "name": "python",
   "nbconvert_exporter": "python",
   "pygments_lexer": "ipython3",
   "version": "3.7.7"
  },
  "latex_envs": {
   "LaTeX_envs_menu_present": true,
   "autoclose": false,
   "autocomplete": true,
   "bibliofile": "biblio.bib",
   "cite_by": "apalike",
   "current_citInitial": 1,
   "eqLabelWithNumbers": true,
   "eqNumInitial": 1,
   "hotkeys": {
    "equation": "Ctrl-E",
    "itemize": "Ctrl-I"
   },
   "labels_anchors": false,
   "latex_user_defs": false,
   "report_style_numbering": false,
   "user_envs_cfg": false
  },
  "toc": {
   "base_numbering": 1,
   "nav_menu": {},
   "number_sections": true,
   "sideBar": true,
   "skip_h1_title": false,
   "title_cell": "Table of Contents",
   "title_sidebar": "Contents",
   "toc_cell": false,
   "toc_position": {},
   "toc_section_display": true,
   "toc_window_display": false
  }
 },
 "nbformat": 4,
 "nbformat_minor": 2
}
