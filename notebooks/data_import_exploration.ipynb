{
 "cells": [
  {
   "cell_type": "markdown",
   "metadata": {},
   "source": [
    "# Data import and exploration\n",
    "This notebook goes through two options for data import and exploration.\n",
    "* Pandas\n",
    "* Numpy"
   ]
  },
  {
   "cell_type": "markdown",
   "metadata": {},
   "source": [
    "## First, look at the data\n",
    "Sean Liddick provided information about how the file is formatted:\n",
    "\n",
    "The file contains one event per line, including the event energies and positions.\n",
    "The values are space-separated. The first 256 values correspond to the 16x16 detector image, flattened. \n",
    "The next values are, in order:\n",
    "Energy1, Xpos1, Ypos1, Energy2, Xpos2, Ypos2\n",
    "There are two types of events in the dataset. Single and double.\\\n",
    "For single events Xpos2 and Ypos2 are set to -100 instead of 0 to make a clear distinction.\n",
    "\n",
    "Open up the file and look at it. In most linux terminals you can also use the command\n",
    "`head` to display a set number of lines from the start of the file. We'll start with the first line.\n",
    "Usually you will also have some information about the file formatting.\n",
    "You can run shell commands inside the notebook by starting the line with an exclamation mark."
   ]
  },
  {
   "cell_type": "code",
   "execution_count": 2,
   "metadata": {
    "scrolled": true
   },
   "outputs": [
    {
     "name": "stdout",
     "output_type": "stream",
     "text": [
      "53 81 96 117 175 194 229 221 179 112 112 80 74 51 36 29 73 92 140 187 253 385 480 395 298 221 145 101 73 59 52 43 64 131 165 261 405 760 1161 864 458 275 180 101 97 68 60 41 79 126 171 287 654 1808 4037 2244 759 350 197 133 86 78 58 35 75 130 153 324 731 2248 6480 3036 889 358 170 116 105 101 65 39 67 127 171 270 559 1158 1840 1324 618 287 172 103 104 78 75 39 48 95 120 185 366 485 628 496 360 213 152 111 90 70 69 36 58 73 109 149 157 229 280 268 243 172 142 106 81 73 73 40 44 66 88 115 126 148 125 156 118 127 122 119 103 108 87 73 34 49 68 71 104 112 117 107 100 108 128 138 172 134 142 93 37 46 54 52 66 67 88 91 98 109 151 210 284 309 234 144 22 47 43 56 69 63 63 68 109 113 177 372 743 781 429 228 18 34 42 42 40 59 57 76 70 118 220 541 1633 1769 543 230 32 33 36 46 42 46 56 64 74 93 207 435 935 957 501 204 12 34 28 38 37 35 45 59 82 98 154 251 343 393 256 173 13 21 27 34 36 37 27 35 42 63 109 144 162 191 136 115 0.942514 4.30804 6.70703 0.33576 12.6208 13.0421\r\n"
     ]
    }
   ],
   "source": [
    "!head -1 ../data/CeBr10k_1.txt"
   ]
  },
  {
   "cell_type": "markdown",
   "metadata": {},
   "source": [
    "\n",
    "\n",
    "That last bit of information indicates that the event we printed above is a double event.\n",
    "We also note that the 256 \"pixel\" values in the detector image are integers, while the remaining\n",
    "6 values for energy and position are floats."
   ]
  },
  {
   "cell_type": "code",
   "execution_count": 1,
   "metadata": {},
   "outputs": [],
   "source": [
    "# Imports\n",
    "import numpy as np\n",
    "import matplotlib.pyplot as plt\n",
    "\n",
    "%load_ext autoreload\n",
    "%autoreload 2\n",
    "%matplotlib inline\n"
   ]
  },
  {
   "cell_type": "markdown",
   "metadata": {},
   "source": [
    "## Import with Pandas"
   ]
  },
  {
   "cell_type": "markdown",
   "metadata": {},
   "source": [
    "## Import with Numpy\n",
    "\n",
    "\n",
    "\n",
    "Check the \"helper_functions.py\" file in the notebook folder to see how we handle the import.\n",
    "The approach used here is a very direct and specific one, but import can be done with any tool you prefer, for example pandas.\n",
    "\n",
    "The energy units are MeV, and the position units are in pixels.\n",
    "\n",
    "In the import function we reshape the images to add another dimension. This is the \"channels\"\n",
    "dimension that models will expect. If the images were RGB images, an image would be (16, 16, 3),\n",
    "but we only have one channel, so we shape them to be (16, 16, 1)."
   ]
  },
  {
   "cell_type": "code",
   "execution_count": 2,
   "metadata": {
    "scrolled": false
   },
   "outputs": [
    {
     "name": "stdout",
     "output_type": "stream",
     "text": [
      "Images shape: (10000, 16, 16, 1)\n",
      "Energies shape: (10000, 2)\n",
      "Positions shape: (10000, 4)\n",
      "Labels shape: (10000,)\n",
      "Number of events of each class: (array([0, 1]), array([5002, 4998]))\n"
     ]
    }
   ],
   "source": [
    "# CeBr10k_1.txt -> mixed single and double events \n",
    "DATA_PATH = \"../data/\"\n",
    "fname = \"CeBr10k_1.txt\"\n",
    "\n",
    "images, energies, positions, labels = import_data(DATA_PATH + fname)\n",
    "\n",
    "# If you have done this before, and have saved data as numpy files, you\n",
    "# can skip this and import directly with numpy.Comment the line above\n",
    "# images = np.load(DATA_PATH+\"images_training.npy\")\n",
    "# energies = np.load(DATA_PATH+\"energies_training.npy\")\n",
    "# positions = np.load(DATA_PATH+\"positions_training.npy\")\n",
    "# labels = np.load(DATA_PATH+\"labels_training.npy\")\n",
    "\n",
    "print(\"Images shape: {}\".format(images.shape))\n",
    "print(\"Energies shape: {}\".format(energies.shape))\n",
    "print(\"Positions shape: {}\".format(positions.shape))\n",
    "print(\"Labels shape: {}\".format(labels.shape))\n",
    "print(\"Number of events of each class:\", np.unique(labels, return_counts=True))\n"
   ]
  },
  {
   "cell_type": "markdown",
   "metadata": {},
   "source": [
    "## Inspection of imported data\n",
    "If possible, it's usually a good idea to have a look at the data to confirm that\n",
    "the import gives a correct representation. In this case we want to check that the\n",
    "images look reasonable and match with positions and label."
   ]
  },
  {
   "cell_type": "code",
   "execution_count": 3,
   "metadata": {
    "scrolled": false
   },
   "outputs": [
    {
     "name": "stdout",
     "output_type": "stream",
     "text": [
      "Label of image 0: 1\n",
      "Positions: [ 4.30804  6.70703 12.6208  13.0421 ]\n",
      "Energies: [0.942514 0.33576 ]\n",
      "\n",
      "Label of image 1: 0\n",
      "Positions: [  12.7629     1.52259 -100.      -100.     ]\n",
      "Energies: [0.302704 0.      ]\n"
     ]
    }
   ],
   "source": [
    "print(\"Label of image 0:\", labels[0])\n",
    "print(\"Positions:\", positions[0])\n",
    "print(\"Energies:\", energies[0])\n",
    "print(\"\\nLabel of image 1:\", labels[1])\n",
    "print(\"Positions:\", positions[1])\n",
    "print(\"Energies:\", energies[1])"
   ]
  },
  {
   "cell_type": "markdown",
   "metadata": {},
   "source": [
    "So we have two events. One double event and one single event.\n",
    "We can plot the detector images using matplotlib's imshow. You could also use a module called\n",
    "seaborn, which comes with a lot of nice presets to make many scientific plots good-looking by\n",
    "default. Seaborn also works well with pandas if you're using that."
   ]
  },
  {
   "cell_type": "code",
   "execution_count": 4,
   "metadata": {
    "scrolled": true
   },
   "outputs": [
    {
     "data": {
      "text/plain": [
       "[<matplotlib.lines.Line2D at 0x7ff84eb35250>]"
      ]
     },
     "execution_count": 4,
     "metadata": {},
     "output_type": "execute_result"
    },
    {
     "data": {
      "image/png": "[encoded data removed]",
      "text/plain": [
       "<Figure size 576x576 with 2 Axes>"
      ]
     },
     "metadata": {
      "needs_background": "light"
     },
     "output_type": "display_data"
    }
   ],
   "source": [
    "# Plot detector image, including positions.\n",
    "# Note that the indices of the positions are swapped when plotting.\n",
    "# imshow plots using matrix coordinates (row first), while our data\n",
    "# comes as column first.\n",
    "fig, ax = plt.subplots(1, 2, figsize=(8, 8))\n",
    "ax[0].imshow(images[0].reshape((16, 16)))\n",
    "ax[0].set_title(\"image 0, type: \" + str(labels[0]))\n",
    "ax[0].plot(positions[0, 1], positions[0, 0], 'rx')\n",
    "ax[0].plot(positions[0, 3], positions[0, 2], 'rx')\n",
    "\n",
    "ax[1].imshow(images[1].reshape((16, 16)))\n",
    "ax[1].set_title(\"image 1, type: \" + str(labels[1]))\n",
    "ax[1].plot(positions[1, 1], positions[1, 0], 'rx')\n"
   ]
  },
  {
   "cell_type": "markdown",
   "metadata": {},
   "source": [
    "### Seaborn example\n",
    "Seaborn example using heatmap. Note the colorbar on the right of the images\n",
    "includes information about the pixel intensity in the detector image. (You can add\n",
    "color bars to imshow too, seaborn just does it by default).\n",
    "Comparing with the energies printed above, higher energy corresponds to higher intensity,\n",
    "as expected.\n",
    "\n",
    "We have to reshape the images back to (16, 16) to plot them, so we do that for the\n",
    "specific images we need. This is temporary, and doesn't actually change the images that\n",
    "is stored in the \"images\" array."
   ]
  },
  {
   "cell_type": "code",
   "execution_count": 5,
   "metadata": {
    "scrolled": true
   },
   "outputs": [
    {
     "data": {
      "text/plain": [
       "Text(0.5, 1.0, 'image 1, type: 0')"
      ]
     },
     "execution_count": 5,
     "metadata": {},
     "output_type": "execute_result"
    },
    {
     "data": {
      "image/png": "[encoded data removed]",
      "text/plain": [
       "<Figure size 864x432 with 4 Axes>"
      ]
     },
     "metadata": {
      "needs_background": "light"
     },
     "output_type": "display_data"
    }
   ],
   "source": [
    "import seaborn as sns\n",
    "fig1, ax1 = plt.subplots(1,2, figsize=(12, 6))\n",
    "sns.heatmap(images[0].reshape((16, 16)), ax=ax1[0], square=True)\n",
    "ax1[0].set_title(\"image 0, type: \" + str(labels[0]))\n",
    "\n",
    "sns.heatmap(images[1].reshape((16, 16)), ax=ax1[1], square=True)\n",
    "ax1[1].set_title(\"image 1, type: \" + str(labels[1]))"
   ]
  },
  {
   "cell_type": "markdown",
   "metadata": {},
   "source": [
    "## Looking further into the detector images\n",
    "From the pixel intensities above we can see that there's quite some difference in\n",
    "intensity. This may affect the model's ability to learn. We delve a little deeper into the numbers, \n",
    "by checking the maximum, minimum, and mean pixel intensity."
   ]
  },
  {
   "cell_type": "code",
   "execution_count": 6,
   "metadata": {},
   "outputs": [
    {
     "name": "stdout",
     "output_type": "stream",
     "text": [
      "Image max: 9951.0\n",
      "Image min: 0.0\n",
      "Image mean: 157.71130703125\n"
     ]
    }
   ],
   "source": [
    "p_max = np.amax(images)\n",
    "p_min = np.amin(images)\n",
    "p_mean = np.mean(images)\n",
    "print(\"Image max:\", p_max)\n",
    "print(\"Image min:\", p_min)\n",
    "print(\"Image mean:\", p_mean)"
   ]
  },
  {
   "cell_type": "markdown",
   "metadata": {},
   "source": [
    "The maximum pixel value is almost two orders of magnitude higher than the mean.\n",
    "This may warrant exploring log-scaling the data later down the road, but to start with,\n",
    "we're going to min-max scale the data to the [0, 1] interval."
   ]
  },
  {
   "cell_type": "markdown",
   "metadata": {},
   "source": [
    "## Normalization of image data\n",
    "Min-max scaling preserves the shape of the distribution, so that the difference between each image in\n",
    "a set of images is also preserved. In doing so, we are assuming that this property in the data is important,\n",
    "but keep in mind that it is something we can change, should we want to.\n",
    "Min-max scaling is calculated as\n",
    "$$\\text{scaled image} = \\frac{\\text{image} - \\mu_{image}}{I_{max} - I_{min}},$$\n",
    "where $I_{max}$ and $I_{min}$ refer to the maximum and minimum pixel intensity,\n",
    "and $\\mu_{image}$ is the mean pixel intensity for the set of images.\n",
    "\n",
    "We've implemented this as a function `normalize_image_data()` using numpy, in `helper_functions.py`.\n",
    "We are, however, not going to use it quite yet. We won't normalize the data before we've split it into\n",
    "a training set and a validation set. If we normalize the entire dataset, then split it, we've techinically\n",
    "included properties of the validation set in the training set. This can give you a false picture of how well\n",
    "your model is performing, and should be avoided. To be even more rigorous, we take out a small \"test set\", which\n",
    "we stow away until we believe our model is the best it can be. Then we assess the performance on this small\n",
    "test set, as our \"out of sample\" performance."
   ]
  },
  {
   "cell_type": "markdown",
   "metadata": {},
   "source": [
    "## Preparing the data\n",
    "You can do the splitting of data manually by slicing the arrays. But this is Python and there are so many\n",
    "modules that can do this for us, just make sure to check the documentation so you don't get any surprises. \n",
    "For this example, we're using scikit-learn's `train_test_split` function, which also shuffles the data for us.\n",
    "Instead of creating copies of the dataset, filling up often precious memory, we will work with indices that we\n",
    "pass around. This also makes it easier to trace any results back to the original inputs.\n"
   ]
  },
  {
   "cell_type": "markdown",
   "metadata": {},
   "source": [
    "### Save training and test sets as files\n",
    "At this point, to keep training data persistent, and to stow away the test set for when all the training\n",
    "and tweaking is done, you can save the training and test data as numpy files to avoid having to read\n",
    "the datafile every time. This is especially useful when the datafiles get into the Gigabytes range."
   ]
  },
  {
   "cell_type": "code",
   "execution_count": 7,
   "metadata": {},
   "outputs": [],
   "source": [
    "# Indices for all images\n",
    "x_idx = np.arange(images.shape[0])\n",
    "\n",
    "# Split the indices into training and test sets (take out 10% of the data as test)\n",
    "tmp_train_idx, test_idx, not_used1, not_used2 = train_test_split(x_idx, x_idx, test_size = 0.1)\n",
    "\n",
    "# Save the training and test data in the data folder\n",
    "# We also need to save the labels, energies, and positions. This allows us to\n",
    "# quickly load it if we need it.\n",
    "\n",
    "# Save the training data. np.save adds a \".npy\" file extension to the provided filename.\n",
    "# We save the files in the same folder as the original datafile.\n",
    "np.save(DATA_PATH+\"images_training\", images[tmp_train_idx])\n",
    "np.save(DATA_PATH+\"energies_training\", energies[tmp_train_idx])\n",
    "np.save(DATA_PATH+\"positions_training\", positions[tmp_train_idx])\n",
    "np.save(DATA_PATH+\"labels_training\", labels[tmp_train_idx])\n",
    "\n",
    "# Save the test data\n",
    "np.save(DATA_PATH+\"images_test\", images[test_idx])\n",
    "np.save(DATA_PATH+\"energies_test\", energies[test_idx])\n",
    "np.save(DATA_PATH+\"positions_test\", positions[test_idx])\n",
    "np.save(DATA_PATH+\"labels_test\", labels[test_idx])"
   ]
  },
  {
   "cell_type": "markdown",
   "metadata": {},
   "source": [
    "### Prepare training data from numpy file\n",
    "This assumes you've already saved the data using the codecell above. Some steps from that cell are now repeated,\n",
    "but with a different goal - to prepare for training, not saving."
   ]
  },
  {
   "cell_type": "code",
   "execution_count": 39,
   "metadata": {},
   "outputs": [],
   "source": [
    "images = np.load(DATA_PATH+\"images_200k.npy\")\n",
    "labels = np.load(DATA_PATH+\"labels_200k.npy\")\n",
    "\n",
    "# Split the training indices into training and validation. \n",
    "# Validate with 25% of the data (default). Can be adjusted as you see fit.\n",
    "x_idx = np.arange(images.shape[0])\n",
    "train_idx, val_idx, not_used1, not_used2 = train_test_split(x_idx, x_idx, test_size = 0.25)"
   ]
  }
 ],
 "metadata": {
  "hide_input": false,
  "kernelspec": {
   "display_name": "Python 3",
   "language": "python",
   "name": "python3"
  },
  "language_info": {
   "codemirror_mode": {
    "name": "ipython",
    "version": 3
   },
   "file_extension": ".py",
   "mimetype": "text/x-python",
   "name": "python",
   "nbconvert_exporter": "python",
   "pygments_lexer": "ipython3",
   "version": "3.7.7"
  },
  "latex_envs": {
   "LaTeX_envs_menu_present": true,
   "autoclose": false,
   "autocomplete": true,
   "bibliofile": "biblio.bib",
   "cite_by": "apalike",
   "current_citInitial": 1,
   "eqLabelWithNumbers": true,
   "eqNumInitial": 1,
   "hotkeys": {
    "equation": "Ctrl-E",
    "itemize": "Ctrl-I"
   },
   "labels_anchors": false,
   "latex_user_defs": false,
   "report_style_numbering": false,
   "user_envs_cfg": false
  },
  "toc": {
   "base_numbering": 1,
   "nav_menu": {},
   "number_sections": true,
   "sideBar": true,
   "skip_h1_title": false,
   "title_cell": "Table of Contents",
   "title_sidebar": "Contents",
   "toc_cell": false,
   "toc_position": {},
   "toc_section_display": true,
   "toc_window_display": false
  }
 },
 "nbformat": 4,
 "nbformat_minor": 2
}
